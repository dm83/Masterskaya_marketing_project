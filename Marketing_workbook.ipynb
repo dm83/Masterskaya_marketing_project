{
 "cells": [
  {
   "cell_type": "markdown",
   "id": "89eeae22",
   "metadata": {},
   "source": [
    "# Проект \"Маркетинг\""
   ]
  },
  {
   "cell_type": "markdown",
   "id": "a269590c",
   "metadata": {},
   "source": [
    "**Описание проекта:**\n",
    "\n",
    "Интернет-магазин собирает историю покупателей, проводит рассылки предложений и планирует будущие продажи.\n",
    "Для оптимизации процессов необходимо выделить пользователей, которые готовы совершить покупку в ближайшее время.\n",
    "\n",
    "Для решения задачи предстоит выполнить инжиниринг признаков, обучить и оптимизировать модель бинарной классификации, которая предскажет вероятность совершения покупки пользователем в течение 90 дней (бинарный таргет).\n",
    "\n",
    " **Результат:**\n",
    "\n",
    "  - прогноз вероятности покупки в течение 90 дней пользователем;\n",
    "  - ключевая метрика ROC-AUC (>= 0.7)."
   ]
  },
  {
   "cell_type": "markdown",
   "id": "8dafd4e1",
   "metadata": {},
   "source": [
    "Для работы предоставлены 3 датасета с исходными данными и 2 датасета со сводной статистикой на базе исходных данных."
   ]
  },
  {
   "cell_type": "markdown",
   "id": "c2067cff",
   "metadata": {},
   "source": [
    "## Загрузка требуемых библиотек"
   ]
  },
  {
   "cell_type": "code",
   "execution_count": 1,
   "id": "71023e5a",
   "metadata": {},
   "outputs": [],
   "source": [
    "# стандартные библиотеки\n",
    "import os\n",
    "from datetime import datetime, timedelta\n",
    "import ast\n",
    "import matplotlib.pyplot as plt\n",
    "import numpy as np\n",
    "import pandas as pd\n",
    "import phik\n",
    "import seaborn as sns\n",
    "from tqdm import tqdm\n",
    "\n",
    "# импорт scikit-learn\n",
    "from sklearn.compose import ColumnTransformer\n",
    "from sklearn.ensemble import RandomForestClassifier\n",
    "from sklearn.impute import SimpleImputer\n",
    "from sklearn.linear_model import LogisticRegression\n",
    "from sklearn.metrics import (\n",
    "    accuracy_score, auc, confusion_matrix, precision_score, \n",
    "    recall_score, roc_auc_score, roc_curve, RocCurveDisplay\n",
    ")\n",
    "from sklearn.model_selection import RandomizedSearchCV, train_test_split\n",
    "from sklearn.neighbors import KNeighborsClassifier\n",
    "from sklearn.pipeline import Pipeline\n",
    "from sklearn.preprocessing import (\n",
    "    LabelEncoder,\n",
    "    MinMaxScaler,\n",
    "    OneHotEncoder, \n",
    "    StandardScaler,\n",
    "    TargetEncoder\n",
    ")\n",
    "from sklearn.svm import SVC\n",
    "from sklearn.tree import DecisionTreeClassifier, DecisionTreeRegressor\n",
    "\n",
    "# библиотеки для дисбаланса\n",
    "from imblearn.combine import SMOTETomek\n",
    "from imblearn.over_sampling import SMOTE\n",
    "from imblearn.pipeline import Pipeline as ImbPipeline\n",
    "from imblearn.under_sampling import TomekLinks\n",
    "\n",
    "# бустинг LightGBM\n",
    "from lightgbm import LGBMClassifier"
   ]
  },
  {
   "cell_type": "code",
   "execution_count": 2,
   "id": "268daaba",
   "metadata": {},
   "outputs": [],
   "source": [
    "# настройка формата вывода float в таблицах\n",
    "pd.set_option('display.float_format', '{:,.2f}'.format)"
   ]
  },
  {
   "cell_type": "code",
   "execution_count": 3,
   "id": "ac0b727b",
   "metadata": {},
   "outputs": [],
   "source": [
    "# фиксируем случайность\n",
    "RANDOM_STATE = 12345"
   ]
  },
  {
   "cell_type": "markdown",
   "id": "cb0fb8ee",
   "metadata": {},
   "source": [
    "## Загрузка данных"
   ]
  },
  {
   "cell_type": "markdown",
   "id": "9b4a3ce8",
   "metadata": {},
   "source": [
    "### Датасет 'apparel-purchases.csv'"
   ]
  },
  {
   "cell_type": "code",
   "execution_count": 4,
   "id": "e728cf0e",
   "metadata": {},
   "outputs": [
    {
     "name": "stdout",
     "output_type": "stream",
     "text": [
      "<class 'pandas.core.frame.DataFrame'>\n",
      "RangeIndex: 202208 entries, 0 to 202207\n",
      "Data columns (total 6 columns):\n",
      " #   Column        Non-Null Count   Dtype         \n",
      "---  ------        --------------   -----         \n",
      " 0   client_id     202208 non-null  int64         \n",
      " 1   quantity      202208 non-null  int64         \n",
      " 2   price         202208 non-null  float64       \n",
      " 3   category_ids  202208 non-null  object        \n",
      " 4   date          202208 non-null  datetime64[ns]\n",
      " 5   message_id    202208 non-null  object        \n",
      "dtypes: datetime64[ns](1), float64(1), int64(2), object(2)\n",
      "memory usage: 9.3+ MB\n"
     ]
    }
   ],
   "source": [
    "purchases_data = pd.read_csv(os.path.join('data', 'apparel-purchases.csv'), parse_dates=['date'])\n",
    "purchases_data.info()"
   ]
  },
  {
   "cell_type": "markdown",
   "id": "29493e60",
   "metadata": {},
   "source": [
    "Данные успешно загружены. Датасет содержит информацию о покупках клиентов, содержит 202208 записей и 6 признаков. Пропущенных значений нет."
   ]
  },
  {
   "cell_type": "markdown",
   "id": "129eaf6c",
   "metadata": {},
   "source": [
    "### Датасет: 'apparel-messages.csv'"
   ]
  },
  {
   "cell_type": "code",
   "execution_count": 5,
   "id": "616b3945",
   "metadata": {},
   "outputs": [
    {
     "name": "stdout",
     "output_type": "stream",
     "text": [
      "<class 'pandas.core.frame.DataFrame'>\n",
      "RangeIndex: 12739798 entries, 0 to 12739797\n",
      "Data columns (total 7 columns):\n",
      " #   Column            Dtype         \n",
      "---  ------            -----         \n",
      " 0   bulk_campaign_id  int64         \n",
      " 1   client_id         int64         \n",
      " 2   message_id        object        \n",
      " 3   event             object        \n",
      " 4   channel           object        \n",
      " 5   date              datetime64[ns]\n",
      " 6   created_at        datetime64[ns]\n",
      "dtypes: datetime64[ns](2), int64(2), object(3)\n",
      "memory usage: 680.4+ MB\n"
     ]
    }
   ],
   "source": [
    "messages_data = pd.read_csv(os.path.join('data', 'apparel-messages.csv'), parse_dates=['date', 'created_at'])\n",
    "messages_data.info()"
   ]
  },
  {
   "cell_type": "code",
   "execution_count": 6,
   "id": "c5673674",
   "metadata": {},
   "outputs": [
    {
     "name": "stdout",
     "output_type": "stream",
     "text": [
      "bulk_campaign_id: 0\n",
      "client_id: 0\n",
      "message_id: 0\n",
      "event: 0\n",
      "channel: 0\n",
      "date: 0\n",
      "created_at: 0\n"
     ]
    }
   ],
   "source": [
    "# Анализ пропущенных значений:\n",
    "for col in messages_data.columns:\n",
    "    print(f\"{col}: {messages_data[col].isna().sum()}\")"
   ]
  },
  {
   "cell_type": "markdown",
   "id": "ebf519f4",
   "metadata": {},
   "source": [
    "Данные успешно загружены. Датасет содержит информацию о рассылках которые были направлены клиентам. Датасет содержит более 12 млн записей и 7 признаков. Пропущенных значений нет."
   ]
  },
  {
   "cell_type": "markdown",
   "id": "73fc99c0",
   "metadata": {},
   "source": [
    "### Датасет 'apparel-target_binary.csv'"
   ]
  },
  {
   "cell_type": "code",
   "execution_count": 7,
   "id": "c55fcbd0",
   "metadata": {},
   "outputs": [
    {
     "name": "stdout",
     "output_type": "stream",
     "text": [
      "<class 'pandas.core.frame.DataFrame'>\n",
      "RangeIndex: 49849 entries, 0 to 49848\n",
      "Data columns (total 2 columns):\n",
      " #   Column     Non-Null Count  Dtype\n",
      "---  ------     --------------  -----\n",
      " 0   client_id  49849 non-null  int64\n",
      " 1   target     49849 non-null  int64\n",
      "dtypes: int64(2)\n",
      "memory usage: 779.0 KB\n"
     ]
    }
   ],
   "source": [
    "target_binary = pd.read_csv(os.path.join('data', 'apparel-target_binary.csv'))\n",
    "target_binary.info()"
   ]
  },
  {
   "cell_type": "code",
   "execution_count": 8,
   "id": "ce60b20a",
   "metadata": {},
   "outputs": [
    {
     "data": {
      "text/html": [
       "<div>\n",
       "<style scoped>\n",
       "    .dataframe tbody tr th:only-of-type {\n",
       "        vertical-align: middle;\n",
       "    }\n",
       "\n",
       "    .dataframe tbody tr th {\n",
       "        vertical-align: top;\n",
       "    }\n",
       "\n",
       "    .dataframe thead th {\n",
       "        text-align: right;\n",
       "    }\n",
       "</style>\n",
       "<table border=\"1\" class=\"dataframe\">\n",
       "  <thead>\n",
       "    <tr style=\"text-align: right;\">\n",
       "      <th></th>\n",
       "      <th>client_id</th>\n",
       "      <th>target</th>\n",
       "    </tr>\n",
       "  </thead>\n",
       "  <tbody>\n",
       "    <tr>\n",
       "      <th>0</th>\n",
       "      <td>1515915625468060902</td>\n",
       "      <td>0</td>\n",
       "    </tr>\n",
       "    <tr>\n",
       "      <th>1</th>\n",
       "      <td>1515915625468061003</td>\n",
       "      <td>1</td>\n",
       "    </tr>\n",
       "    <tr>\n",
       "      <th>2</th>\n",
       "      <td>1515915625468061099</td>\n",
       "      <td>0</td>\n",
       "    </tr>\n",
       "    <tr>\n",
       "      <th>3</th>\n",
       "      <td>1515915625468061100</td>\n",
       "      <td>0</td>\n",
       "    </tr>\n",
       "    <tr>\n",
       "      <th>4</th>\n",
       "      <td>1515915625468061170</td>\n",
       "      <td>0</td>\n",
       "    </tr>\n",
       "  </tbody>\n",
       "</table>\n",
       "</div>"
      ],
      "text/plain": [
       "             client_id  target\n",
       "0  1515915625468060902       0\n",
       "1  1515915625468061003       1\n",
       "2  1515915625468061099       0\n",
       "3  1515915625468061100       0\n",
       "4  1515915625468061170       0"
      ]
     },
     "execution_count": 8,
     "metadata": {},
     "output_type": "execute_result"
    }
   ],
   "source": [
    "target_binary.head()"
   ]
  },
  {
   "cell_type": "markdown",
   "id": "3a3546b5",
   "metadata": {},
   "source": [
    "Данные успешно загружены. Датасет содержит значение бинарного таргета. Таргетом является вероятность совершения покупки пользователем в течение 90 дней."
   ]
  },
  {
   "cell_type": "markdown",
   "id": "4112fc38",
   "metadata": {},
   "source": [
    "### Выводы"
   ]
  },
  {
   "cell_type": "markdown",
   "id": "1c50f066",
   "metadata": {},
   "source": [
    "Предоставлено 3 датасета. Данные успешно загружены. Пропущенные значения не обнаружены."
   ]
  },
  {
   "cell_type": "markdown",
   "id": "d4cb9737",
   "metadata": {},
   "source": [
    "## Предобработка данных"
   ]
  },
  {
   "cell_type": "markdown",
   "id": "315ed8bb",
   "metadata": {},
   "source": [
    "### Датасет \"purchases_data\""
   ]
  },
  {
   "cell_type": "code",
   "execution_count": 9,
   "id": "853ffdca",
   "metadata": {},
   "outputs": [
    {
     "data": {
      "text/html": [
       "<div>\n",
       "<style scoped>\n",
       "    .dataframe tbody tr th:only-of-type {\n",
       "        vertical-align: middle;\n",
       "    }\n",
       "\n",
       "    .dataframe tbody tr th {\n",
       "        vertical-align: top;\n",
       "    }\n",
       "\n",
       "    .dataframe thead th {\n",
       "        text-align: right;\n",
       "    }\n",
       "</style>\n",
       "<table border=\"1\" class=\"dataframe\">\n",
       "  <thead>\n",
       "    <tr style=\"text-align: right;\">\n",
       "      <th></th>\n",
       "      <th>client_id</th>\n",
       "      <th>quantity</th>\n",
       "      <th>price</th>\n",
       "      <th>category_ids</th>\n",
       "      <th>date</th>\n",
       "      <th>message_id</th>\n",
       "    </tr>\n",
       "  </thead>\n",
       "  <tbody>\n",
       "    <tr>\n",
       "      <th>0</th>\n",
       "      <td>1515915625468169594</td>\n",
       "      <td>1</td>\n",
       "      <td>1,999.00</td>\n",
       "      <td>['4', '28', '57', '431']</td>\n",
       "      <td>2022-05-16</td>\n",
       "      <td>1515915625468169594-4301-627b661e9736d</td>\n",
       "    </tr>\n",
       "    <tr>\n",
       "      <th>1</th>\n",
       "      <td>1515915625468169594</td>\n",
       "      <td>1</td>\n",
       "      <td>2,499.00</td>\n",
       "      <td>['4', '28', '57', '431']</td>\n",
       "      <td>2022-05-16</td>\n",
       "      <td>1515915625468169594-4301-627b661e9736d</td>\n",
       "    </tr>\n",
       "    <tr>\n",
       "      <th>2</th>\n",
       "      <td>1515915625471138230</td>\n",
       "      <td>1</td>\n",
       "      <td>6,499.00</td>\n",
       "      <td>['4', '28', '57', '431']</td>\n",
       "      <td>2022-05-16</td>\n",
       "      <td>1515915625471138230-4437-6282242f27843</td>\n",
       "    </tr>\n",
       "    <tr>\n",
       "      <th>3</th>\n",
       "      <td>1515915625471138230</td>\n",
       "      <td>1</td>\n",
       "      <td>4,999.00</td>\n",
       "      <td>['4', '28', '244', '432']</td>\n",
       "      <td>2022-05-16</td>\n",
       "      <td>1515915625471138230-4437-6282242f27843</td>\n",
       "    </tr>\n",
       "    <tr>\n",
       "      <th>4</th>\n",
       "      <td>1515915625471138230</td>\n",
       "      <td>1</td>\n",
       "      <td>4,999.00</td>\n",
       "      <td>['4', '28', '49', '413']</td>\n",
       "      <td>2022-05-16</td>\n",
       "      <td>1515915625471138230-4437-6282242f27843</td>\n",
       "    </tr>\n",
       "  </tbody>\n",
       "</table>\n",
       "</div>"
      ],
      "text/plain": [
       "             client_id  quantity    price               category_ids  \\\n",
       "0  1515915625468169594         1 1,999.00   ['4', '28', '57', '431']   \n",
       "1  1515915625468169594         1 2,499.00   ['4', '28', '57', '431']   \n",
       "2  1515915625471138230         1 6,499.00   ['4', '28', '57', '431']   \n",
       "3  1515915625471138230         1 4,999.00  ['4', '28', '244', '432']   \n",
       "4  1515915625471138230         1 4,999.00   ['4', '28', '49', '413']   \n",
       "\n",
       "        date                              message_id  \n",
       "0 2022-05-16  1515915625468169594-4301-627b661e9736d  \n",
       "1 2022-05-16  1515915625468169594-4301-627b661e9736d  \n",
       "2 2022-05-16  1515915625471138230-4437-6282242f27843  \n",
       "3 2022-05-16  1515915625471138230-4437-6282242f27843  \n",
       "4 2022-05-16  1515915625471138230-4437-6282242f27843  "
      ]
     },
     "execution_count": 9,
     "metadata": {},
     "output_type": "execute_result"
    }
   ],
   "source": [
    "purchases_data.head()"
   ]
  },
  {
   "cell_type": "markdown",
   "id": "876e57df",
   "metadata": {},
   "source": [
    " Анализ датасета позволяет сделать следующие заключения:\n",
    " - 4 количественных признака (в т.ч. 1 признак времени), 2 категориальных;\n",
    " - 'client_id' - индексный признак с точки зрения агрегирования данных для подготовки данных к обучению моделей;\n",
    " - 'message_id' - индексный признак для датасета 'messages_data', при этом можно заметить что он состоит из трех частей: \"client_id\"-\"bulk_campaign_id\"-\"hash\";\n",
    " - при помощи 'quantity' и 'price' можно вычислить новый признак 'total'\n",
    " - 'category_ids' - данные представлены в виде строковых значений, по форме представляют собой список с числами в виде строковых значений.\n",
    "\n",
    "Проведем предобработку датасета:"
   ]
  },
  {
   "cell_type": "code",
   "execution_count": 10,
   "id": "da3a1629",
   "metadata": {},
   "outputs": [],
   "source": [
    "# разбиваем message_id на части\n",
    "split_columns = purchases_data['message_id'].str.split('-', expand=True)\n",
    "\n",
    "# переименовываем столбцы и преобразуем типы данных\n",
    "split_columns.columns = ['client_id_mes', 'bulk_campaign_id', 'hash_code']\n",
    "split_columns['client_id_mes'] = split_columns['client_id_mes'].astype('int64')\n",
    "split_columns['bulk_campaign_id'] = split_columns['bulk_campaign_id'].astype('int64')\n",
    "\n",
    "# добавляем новые столбцы в исходный DataFrame\n",
    "purchases_data = pd.concat([purchases_data, split_columns], axis=1)\n",
    "\n",
    "# выделим наблюдения с некорректным message_id\n",
    "purchases_data['client_id_check'] = purchases_data['client_id'] == purchases_data['client_id_mes']"
   ]
  },
  {
   "cell_type": "code",
   "execution_count": 11,
   "id": "01700ad8",
   "metadata": {},
   "outputs": [
    {
     "data": {
      "text/html": [
       "<div>\n",
       "<style scoped>\n",
       "    .dataframe tbody tr th:only-of-type {\n",
       "        vertical-align: middle;\n",
       "    }\n",
       "\n",
       "    .dataframe tbody tr th {\n",
       "        vertical-align: top;\n",
       "    }\n",
       "\n",
       "    .dataframe thead th {\n",
       "        text-align: right;\n",
       "    }\n",
       "</style>\n",
       "<table border=\"1\" class=\"dataframe\">\n",
       "  <thead>\n",
       "    <tr style=\"text-align: right;\">\n",
       "      <th>target</th>\n",
       "      <th>0</th>\n",
       "      <th>1</th>\n",
       "      <th>total</th>\n",
       "      <th>perc_0</th>\n",
       "      <th>perc_1</th>\n",
       "    </tr>\n",
       "    <tr>\n",
       "      <th>client_id_check</th>\n",
       "      <th></th>\n",
       "      <th></th>\n",
       "      <th></th>\n",
       "      <th></th>\n",
       "      <th></th>\n",
       "    </tr>\n",
       "  </thead>\n",
       "  <tbody>\n",
       "    <tr>\n",
       "      <th>False</th>\n",
       "      <td>54138</td>\n",
       "      <td>1545</td>\n",
       "      <td>55683</td>\n",
       "      <td>0.97</td>\n",
       "      <td>0.03</td>\n",
       "    </tr>\n",
       "    <tr>\n",
       "      <th>True</th>\n",
       "      <td>141272</td>\n",
       "      <td>5253</td>\n",
       "      <td>146525</td>\n",
       "      <td>0.96</td>\n",
       "      <td>0.04</td>\n",
       "    </tr>\n",
       "  </tbody>\n",
       "</table>\n",
       "</div>"
      ],
      "text/plain": [
       "target                0     1   total  perc_0  perc_1\n",
       "client_id_check                                      \n",
       "False             54138  1545   55683    0.97    0.03\n",
       "True             141272  5253  146525    0.96    0.04"
      ]
     },
     "execution_count": 11,
     "metadata": {},
     "output_type": "execute_result"
    }
   ],
   "source": [
    "# строим матрицу сопряжения для фиксации наличия ошибок в message_id\n",
    "confusion_table = target_binary.merge(purchases_data, how='left', on='client_id')\n",
    "(confusion_table\n",
    " .groupby(['client_id_check', 'target'])\n",
    " .size()\n",
    " .unstack()\n",
    " .assign(total=lambda x: x.sum(axis=1))\n",
    " .pipe(lambda df: pd.concat([\n",
    "     df,\n",
    "     df.div(df['total'], axis=0).drop('total', axis=1).add_prefix('perc_')\n",
    " ], axis=1)))"
   ]
  },
  {
   "cell_type": "markdown",
   "id": "a9a134f0",
   "metadata": {},
   "source": [
    "Как можно заметить часть наблюдений имеет некорректный 'client_id' (или в 'messages_id' или в признаке 'client_id') что указывает на то что в данных имеется ошибка. Если это ошибка, а в датасете 'messages_data' данные корректные то такие наблюдения не объединятся при объединении датасетов. Стоит заметить, что доля ошибочных  наблюдений достаточно весома и составляет 27%."
   ]
  },
  {
   "cell_type": "code",
   "execution_count": 12,
   "id": "53967d45",
   "metadata": {},
   "outputs": [
    {
     "data": {
      "text/plain": [
       "4   0.96\n",
       "0   0.03\n",
       "3   0.01\n",
       "5   0.00\n",
       "Name: category_ids, dtype: float64"
      ]
     },
     "execution_count": 12,
     "metadata": {},
     "output_type": "execute_result"
    }
   ],
   "source": [
    "# исключим лишние признаки\n",
    "purchases_data = purchases_data.drop(['client_id_mes', 'bulk_campaign_id', 'hash_code', 'client_id_check'], axis=1)\n",
    "\n",
    "# добавим новым признак total\n",
    "purchases_data['total'] = purchases_data['quantity'] * purchases_data['price']\n",
    "\n",
    "# преобразуем признак \"category_ids\" в список и преобразуем элементы списка в числовой формат \n",
    "purchases_data['category_ids'] = purchases_data['category_ids'].apply(ast.literal_eval)\n",
    "purchases_data['category_ids'] = purchases_data['category_ids'].apply(lambda lst: [int(x) for x in lst if x is not None])\n",
    "\n",
    "# проанализируем длины путей\n",
    "purchases_data['category_ids'].apply(lambda x: len(x)).value_counts(normalize=True)"
   ]
  },
  {
   "cell_type": "markdown",
   "id": "36c25810",
   "metadata": {},
   "source": [
    "Подавляющая часть путей в иерархии товара состоит из 4 уровней (96%), незначительная часть это пустые пути (3%) и 1% это пути состоящие из 3 или 5 уровней."
   ]
  },
  {
   "cell_type": "code",
   "execution_count": 13,
   "id": "3a4b97f2",
   "metadata": {},
   "outputs": [
    {
     "name": "stdout",
     "output_type": "stream",
     "text": [
      "category_ids_str: 932 уникальных наименований\n",
      "category_ids_str_short: 891 уникальных наименований\n",
      "category_ids_first: 8 уникальных наименований\n",
      "category_ids_last: 842 уникальных наименований\n",
      "  category_ids_str category_ids_str_short category_ids_first category_ids_last\n",
      "0      4_28_57_431                  4_431                  4               431\n",
      "1      4_28_57_431                  4_431                  4               431\n",
      "2      4_28_57_431                  4_431                  4               431\n",
      "3     4_28_244_432                  4_432                  4               432\n",
      "4      4_28_49_413                  4_413                  4               413\n"
     ]
    }
   ],
   "source": [
    "# добавим новый признак в виде строкового вектора и сжатого строкового вектора\n",
    "purchases_data['category_ids_str'] = purchases_data['category_ids'].apply(lambda x: '_'.join(map(str, x) if x is not None else None))\n",
    "purchases_data['category_ids_str_short'] = purchases_data['category_ids'].apply(lambda x: f\"{x[0]}_{x[-1]}\" if isinstance(x, list) and len(x) > 0 else None)\n",
    "purchases_data['category_ids_first'] = purchases_data['category_ids'].apply(lambda x: f\"{x[0]}\" if isinstance(x, list) and len(x) > 0 else None)\n",
    "purchases_data['category_ids_last'] = purchases_data['category_ids'].apply(lambda x: f\"{x[-1]}\" if isinstance(x, list) and len(x) > 0 else None)\n",
    "\n",
    "print(f\"category_ids_str: {purchases_data['category_ids_str'].nunique()} уникальных наименований\")\n",
    "print(f\"category_ids_str_short: {purchases_data['category_ids_str_short'].nunique()} уникальных наименований\")\n",
    "print(f\"category_ids_first: {purchases_data['category_ids_first'].nunique()} уникальных наименований\")\n",
    "print(f\"category_ids_last: {purchases_data['category_ids_last'].nunique()} уникальных наименований\")\n",
    "print(purchases_data[['category_ids_str', 'category_ids_str_short', 'category_ids_first', 'category_ids_last']].head())"
   ]
  },
  {
   "cell_type": "markdown",
   "id": "8d7f74e7",
   "metadata": {},
   "source": [
    "Как можно заметить вариация 'category_ids_str_short' практически идентична 'category_ids_str'. Отсюда использование 'category_ids_str_short' не приведет к снижению информативности признака, но позволит удобнее работать с признаком."
   ]
  },
  {
   "cell_type": "markdown",
   "id": "78a6d895",
   "metadata": {},
   "source": [
    "Проанализируем распределения признаков датасета:"
   ]
  },
  {
   "cell_type": "code",
   "execution_count": 14,
   "id": "eb4b08ef",
   "metadata": {},
   "outputs": [
    {
     "data": {
      "text/html": [
       "<div>\n",
       "<style scoped>\n",
       "    .dataframe tbody tr th:only-of-type {\n",
       "        vertical-align: middle;\n",
       "    }\n",
       "\n",
       "    .dataframe tbody tr th {\n",
       "        vertical-align: top;\n",
       "    }\n",
       "\n",
       "    .dataframe thead th {\n",
       "        text-align: right;\n",
       "    }\n",
       "</style>\n",
       "<table border=\"1\" class=\"dataframe\">\n",
       "  <thead>\n",
       "    <tr style=\"text-align: right;\">\n",
       "      <th></th>\n",
       "      <th>client_id</th>\n",
       "      <th>quantity</th>\n",
       "      <th>price</th>\n",
       "      <th>total</th>\n",
       "    </tr>\n",
       "  </thead>\n",
       "  <tbody>\n",
       "    <tr>\n",
       "      <th>count</th>\n",
       "      <td>202,208.00</td>\n",
       "      <td>202,208.00</td>\n",
       "      <td>202,208.00</td>\n",
       "      <td>202,208.00</td>\n",
       "    </tr>\n",
       "    <tr>\n",
       "      <th>mean</th>\n",
       "      <td>1,515,915,625,596,210,944.00</td>\n",
       "      <td>1.01</td>\n",
       "      <td>1,193.30</td>\n",
       "      <td>1,199.48</td>\n",
       "    </tr>\n",
       "    <tr>\n",
       "      <th>std</th>\n",
       "      <td>145,945,755.93</td>\n",
       "      <td>0.18</td>\n",
       "      <td>1,342.25</td>\n",
       "      <td>1,355.02</td>\n",
       "    </tr>\n",
       "    <tr>\n",
       "      <th>min</th>\n",
       "      <td>1,515,915,625,468,060,928.00</td>\n",
       "      <td>1.00</td>\n",
       "      <td>1.00</td>\n",
       "      <td>1.00</td>\n",
       "    </tr>\n",
       "    <tr>\n",
       "      <th>25%</th>\n",
       "      <td>1,515,915,625,490,081,280.00</td>\n",
       "      <td>1.00</td>\n",
       "      <td>352.00</td>\n",
       "      <td>355.00</td>\n",
       "    </tr>\n",
       "    <tr>\n",
       "      <th>50%</th>\n",
       "      <td>1,515,915,625,557,177,088.00</td>\n",
       "      <td>1.00</td>\n",
       "      <td>987.00</td>\n",
       "      <td>997.00</td>\n",
       "    </tr>\n",
       "    <tr>\n",
       "      <th>75%</th>\n",
       "      <td>1,515,915,625,624,391,936.00</td>\n",
       "      <td>1.00</td>\n",
       "      <td>1,699.00</td>\n",
       "      <td>1,699.00</td>\n",
       "    </tr>\n",
       "    <tr>\n",
       "      <th>max</th>\n",
       "      <td>1,515,915,626,010,443,520.00</td>\n",
       "      <td>30.00</td>\n",
       "      <td>85,499.00</td>\n",
       "      <td>85,499.00</td>\n",
       "    </tr>\n",
       "  </tbody>\n",
       "</table>\n",
       "</div>"
      ],
      "text/plain": [
       "                         client_id   quantity      price      total\n",
       "count                   202,208.00 202,208.00 202,208.00 202,208.00\n",
       "mean  1,515,915,625,596,210,944.00       1.01   1,193.30   1,199.48\n",
       "std                 145,945,755.93       0.18   1,342.25   1,355.02\n",
       "min   1,515,915,625,468,060,928.00       1.00       1.00       1.00\n",
       "25%   1,515,915,625,490,081,280.00       1.00     352.00     355.00\n",
       "50%   1,515,915,625,557,177,088.00       1.00     987.00     997.00\n",
       "75%   1,515,915,625,624,391,936.00       1.00   1,699.00   1,699.00\n",
       "max   1,515,915,626,010,443,520.00      30.00  85,499.00  85,499.00"
      ]
     },
     "execution_count": 14,
     "metadata": {},
     "output_type": "execute_result"
    }
   ],
   "source": [
    "# распределение количественых признаков\n",
    "purchases_data.select_dtypes(include=np.number).describe()"
   ]
  },
  {
   "cell_type": "code",
   "execution_count": 15,
   "id": "95820726",
   "metadata": {},
   "outputs": [
    {
     "data": {
      "text/html": [
       "<div>\n",
       "<style scoped>\n",
       "    .dataframe tbody tr th:only-of-type {\n",
       "        vertical-align: middle;\n",
       "    }\n",
       "\n",
       "    .dataframe tbody tr th {\n",
       "        vertical-align: top;\n",
       "    }\n",
       "\n",
       "    .dataframe thead th {\n",
       "        text-align: right;\n",
       "    }\n",
       "</style>\n",
       "<table border=\"1\" class=\"dataframe\">\n",
       "  <thead>\n",
       "    <tr style=\"text-align: right;\">\n",
       "      <th></th>\n",
       "      <th>date</th>\n",
       "    </tr>\n",
       "  </thead>\n",
       "  <tbody>\n",
       "    <tr>\n",
       "      <th>count</th>\n",
       "      <td>202208</td>\n",
       "    </tr>\n",
       "    <tr>\n",
       "      <th>mean</th>\n",
       "      <td>2023-03-17 02:49:35.739832064</td>\n",
       "    </tr>\n",
       "    <tr>\n",
       "      <th>min</th>\n",
       "      <td>2022-05-16 00:00:00</td>\n",
       "    </tr>\n",
       "    <tr>\n",
       "      <th>25%</th>\n",
       "      <td>2022-11-12 00:00:00</td>\n",
       "    </tr>\n",
       "    <tr>\n",
       "      <th>50%</th>\n",
       "      <td>2023-04-12 00:00:00</td>\n",
       "    </tr>\n",
       "    <tr>\n",
       "      <th>75%</th>\n",
       "      <td>2023-07-03 00:00:00</td>\n",
       "    </tr>\n",
       "    <tr>\n",
       "      <th>max</th>\n",
       "      <td>2024-02-16 00:00:00</td>\n",
       "    </tr>\n",
       "  </tbody>\n",
       "</table>\n",
       "</div>"
      ],
      "text/plain": [
       "                                date\n",
       "count                         202208\n",
       "mean   2023-03-17 02:49:35.739832064\n",
       "min              2022-05-16 00:00:00\n",
       "25%              2022-11-12 00:00:00\n",
       "50%              2023-04-12 00:00:00\n",
       "75%              2023-07-03 00:00:00\n",
       "max              2024-02-16 00:00:00"
      ]
     },
     "execution_count": 15,
     "metadata": {},
     "output_type": "execute_result"
    }
   ],
   "source": [
    "# распределение временных признаков\n",
    "purchases_data.select_dtypes(include='datetime').describe(datetime_is_numeric=True)"
   ]
  },
  {
   "cell_type": "markdown",
   "id": "e84c74ad",
   "metadata": {},
   "source": [
    "Датасет содержит информацию с 16-05-2022 по 16-02-2024. Добавим новый признак: дней с момента последней покупки (recency)."
   ]
  },
  {
   "cell_type": "code",
   "execution_count": 16,
   "id": "7f31385e",
   "metadata": {},
   "outputs": [
    {
     "data": {
      "image/png": "[encoded data removed]",
      "text/plain": [
       "<Figure size 640x480 with 1 Axes>"
      ]
     },
     "metadata": {},
     "output_type": "display_data"
    }
   ],
   "source": [
    "purchases_data['recency_purchase'] = (purchases_data['date'].max() - purchases_data['date']).dt.days\n",
    "purchases_data['recency_purchase'].hist()\n",
    "plt.title('Распределение времени в днях с момента последней покупки')\n",
    "plt.xlabel('Дни')\n",
    "plt.ylabel('Частота')\n",
    "plt.show()"
   ]
  },
  {
   "cell_type": "markdown",
   "id": "1c3b9b40",
   "metadata": {},
   "source": [
    "Как можно заметить, время последней покупки распределено ненормально и может быть охарактеризовано как мультимодальное."
   ]
  },
  {
   "cell_type": "markdown",
   "id": "9998aedb",
   "metadata": {},
   "source": [
    "При проверки наличия явных дубликатов в датасете необходимо учитывать что возможны ситуации что покупатель сделал одинаковые покупки в течение одного дня. Признак 'date' указан в виде даты без указания времени, отсюда ситуации одинаковой покупки в течение одного дня будут классифицированы как явные дубликаты, что очевидно может быть не так. Проверка на дубликаты не возможна и принимаем допущение что дубликатов нет, а проверка была проведена на этапе формирования данных."
   ]
  },
  {
   "cell_type": "markdown",
   "id": "3d669c2c",
   "metadata": {},
   "source": [
    "### Датасет 'messages_data'"
   ]
  },
  {
   "cell_type": "code",
   "execution_count": 17,
   "id": "4b944311",
   "metadata": {},
   "outputs": [
    {
     "data": {
      "text/html": [
       "<div>\n",
       "<style scoped>\n",
       "    .dataframe tbody tr th:only-of-type {\n",
       "        vertical-align: middle;\n",
       "    }\n",
       "\n",
       "    .dataframe tbody tr th {\n",
       "        vertical-align: top;\n",
       "    }\n",
       "\n",
       "    .dataframe thead th {\n",
       "        text-align: right;\n",
       "    }\n",
       "</style>\n",
       "<table border=\"1\" class=\"dataframe\">\n",
       "  <thead>\n",
       "    <tr style=\"text-align: right;\">\n",
       "      <th></th>\n",
       "      <th>bulk_campaign_id</th>\n",
       "      <th>client_id</th>\n",
       "      <th>message_id</th>\n",
       "      <th>event</th>\n",
       "      <th>channel</th>\n",
       "      <th>date</th>\n",
       "      <th>created_at</th>\n",
       "    </tr>\n",
       "  </thead>\n",
       "  <tbody>\n",
       "    <tr>\n",
       "      <th>0</th>\n",
       "      <td>4439</td>\n",
       "      <td>1515915625626736623</td>\n",
       "      <td>1515915625626736623-4439-6283415ac07ea</td>\n",
       "      <td>open</td>\n",
       "      <td>email</td>\n",
       "      <td>2022-05-19</td>\n",
       "      <td>2022-05-19 00:14:20</td>\n",
       "    </tr>\n",
       "    <tr>\n",
       "      <th>1</th>\n",
       "      <td>4439</td>\n",
       "      <td>1515915625490086521</td>\n",
       "      <td>1515915625490086521-4439-62834150016dd</td>\n",
       "      <td>open</td>\n",
       "      <td>email</td>\n",
       "      <td>2022-05-19</td>\n",
       "      <td>2022-05-19 00:39:34</td>\n",
       "    </tr>\n",
       "    <tr>\n",
       "      <th>2</th>\n",
       "      <td>4439</td>\n",
       "      <td>1515915625553578558</td>\n",
       "      <td>1515915625553578558-4439-6283415b36b4f</td>\n",
       "      <td>open</td>\n",
       "      <td>email</td>\n",
       "      <td>2022-05-19</td>\n",
       "      <td>2022-05-19 00:51:49</td>\n",
       "    </tr>\n",
       "    <tr>\n",
       "      <th>3</th>\n",
       "      <td>4439</td>\n",
       "      <td>1515915625553578558</td>\n",
       "      <td>1515915625553578558-4439-6283415b36b4f</td>\n",
       "      <td>click</td>\n",
       "      <td>email</td>\n",
       "      <td>2022-05-19</td>\n",
       "      <td>2022-05-19 00:52:20</td>\n",
       "    </tr>\n",
       "    <tr>\n",
       "      <th>4</th>\n",
       "      <td>4439</td>\n",
       "      <td>1515915625471518311</td>\n",
       "      <td>1515915625471518311-4439-628341570c133</td>\n",
       "      <td>open</td>\n",
       "      <td>email</td>\n",
       "      <td>2022-05-19</td>\n",
       "      <td>2022-05-19 00:56:52</td>\n",
       "    </tr>\n",
       "  </tbody>\n",
       "</table>\n",
       "</div>"
      ],
      "text/plain": [
       "   bulk_campaign_id            client_id  \\\n",
       "0              4439  1515915625626736623   \n",
       "1              4439  1515915625490086521   \n",
       "2              4439  1515915625553578558   \n",
       "3              4439  1515915625553578558   \n",
       "4              4439  1515915625471518311   \n",
       "\n",
       "                               message_id  event channel       date  \\\n",
       "0  1515915625626736623-4439-6283415ac07ea   open   email 2022-05-19   \n",
       "1  1515915625490086521-4439-62834150016dd   open   email 2022-05-19   \n",
       "2  1515915625553578558-4439-6283415b36b4f   open   email 2022-05-19   \n",
       "3  1515915625553578558-4439-6283415b36b4f  click   email 2022-05-19   \n",
       "4  1515915625471518311-4439-628341570c133   open   email 2022-05-19   \n",
       "\n",
       "           created_at  \n",
       "0 2022-05-19 00:14:20  \n",
       "1 2022-05-19 00:39:34  \n",
       "2 2022-05-19 00:51:49  \n",
       "3 2022-05-19 00:52:20  \n",
       "4 2022-05-19 00:56:52  "
      ]
     },
     "execution_count": 17,
     "metadata": {},
     "output_type": "execute_result"
    }
   ],
   "source": [
    "# изучим данные датасета\n",
    "messages_data.head()"
   ]
  },
  {
   "cell_type": "markdown",
   "id": "01c5a4fc",
   "metadata": {},
   "source": [
    " Анализ датасета позволяет сделать следующие заключения:\n",
    " - датасет является довольно большим (12.7 млн строк);\n",
    " - 4 количественных признака (в т.ч. 2 признака времени), 3 категориальных;\n",
    " - 'client_id' - индексный признак с точки зрения агрегирования данных для подготовки данных к обучению моделей;\n",
    " - признак 'created_at' дублирует 'date' и отличается наличием времени: можно исключить;\n",
    " - 'message_id' - индексный признак для датасета 'purchases_data', выполним проверку по аналогии как с 'message_id' в 'purchases_data'."
   ]
  },
  {
   "cell_type": "code",
   "execution_count": 18,
   "id": "d3e2598b",
   "metadata": {},
   "outputs": [],
   "source": [
    "# разбиваем message_id на части\n",
    "split_columns = messages_data['message_id'].str.split('-', expand=True)\n",
    "\n",
    "# переименовываем столбцы\n",
    "split_columns.columns = ['client_id_mes', 'bulk_campaign_id_mes', 'hash_code']\n",
    "split_columns['client_id_mes'] = split_columns['client_id_mes'].astype('int64')\n",
    "split_columns['bulk_campaign_id_mes'] = split_columns['bulk_campaign_id_mes'].astype('int64')\n",
    "\n",
    "# добавляем новые столбцы в исходный DataFrame\n",
    "messages_data = pd.concat([messages_data, split_columns], axis=1)"
   ]
  },
  {
   "cell_type": "code",
   "execution_count": 19,
   "id": "f8c8cc9d",
   "metadata": {},
   "outputs": [
    {
     "data": {
      "text/plain": [
       "True"
      ]
     },
     "execution_count": 19,
     "metadata": {},
     "output_type": "execute_result"
    }
   ],
   "source": [
    "# проверка совпадения 'client_id'\n",
    "messages_data['client_id_check'] = messages_data['client_id'] == messages_data['client_id_mes']\n",
    "(messages_data['client_id_check']).all()"
   ]
  },
  {
   "cell_type": "code",
   "execution_count": 20,
   "id": "72fb080d",
   "metadata": {},
   "outputs": [
    {
     "data": {
      "text/plain": [
       "True"
      ]
     },
     "execution_count": 20,
     "metadata": {},
     "output_type": "execute_result"
    }
   ],
   "source": [
    "# проверка совпадения 'bulk_campaign_id'\n",
    "(messages_data['bulk_campaign_id'] == messages_data['bulk_campaign_id_mes']).all()"
   ]
  },
  {
   "cell_type": "markdown",
   "id": "bca0c6e1",
   "metadata": {},
   "source": [
    "Признак 'message_id' в датасете 'mesagges_data' корректен. На этапе предобработки 'purchases_data' мы выявили что 27% данных не совпадают, то потеря этих данных приведет к существенной потере данных. В этой связи на этапе интеграции датасетов необходимо будет решать задачу замены пропусков."
   ]
  },
  {
   "cell_type": "code",
   "execution_count": 21,
   "id": "45a1cfd3",
   "metadata": {},
   "outputs": [],
   "source": [
    "# удалим лишние признаки\n",
    "messages_data = messages_data.drop(['client_id_mes', 'bulk_campaign_id_mes', 'client_id_check', 'hash_code'], axis=1)"
   ]
  },
  {
   "cell_type": "code",
   "execution_count": 22,
   "id": "e72c9ab9",
   "metadata": {},
   "outputs": [
    {
     "name": "stdout",
     "output_type": "stream",
     "text": [
      "Исходное кол-во строк датасета: 12739798\n",
      "Количество дубликатов: 48610\n",
      "Доля дубликатов: 0.38%\n",
      "Датасет преобразован (дубликаты удалены).\n",
      "\n"
     ]
    }
   ],
   "source": [
    "# функция проверки наличия дубликатов\n",
    "def duplicates_check(data):\n",
    "    data_shape_pre = data.shape[0]\n",
    "    duplicates_check = data.duplicated()\n",
    "    print(f'Исходное кол-во строк датасета: {data_shape_pre}')\n",
    "    print(f'Количество дубликатов: {duplicates_check.sum()}')\n",
    "    print(f'Доля дубликатов: {duplicates_check.sum() / data_shape_pre * 100:.2f}%')\n",
    "    data_adj = data.drop_duplicates()\n",
    "    print(f'Датасет преобразован (дубликаты удалены).\\n')\n",
    "    return data_adj.reset_index(drop=True)\n",
    "\n",
    "# удалим явные дубликаты\n",
    "messages_data = duplicates_check(messages_data)"
   ]
  },
  {
   "cell_type": "code",
   "execution_count": 23,
   "id": "52a5f573",
   "metadata": {},
   "outputs": [],
   "source": [
    "# исключим признак 'created_at'\n",
    "messages_data = messages_data.drop('created_at', axis=1)"
   ]
  },
  {
   "cell_type": "markdown",
   "id": "63f2596d",
   "metadata": {},
   "source": [
    "Проанализируем распределения признаков по типам данных."
   ]
  },
  {
   "cell_type": "code",
   "execution_count": 24,
   "id": "aa6eb05c",
   "metadata": {},
   "outputs": [
    {
     "data": {
      "text/html": [
       "<div>\n",
       "<style scoped>\n",
       "    .dataframe tbody tr th:only-of-type {\n",
       "        vertical-align: middle;\n",
       "    }\n",
       "\n",
       "    .dataframe tbody tr th {\n",
       "        vertical-align: top;\n",
       "    }\n",
       "\n",
       "    .dataframe thead th {\n",
       "        text-align: right;\n",
       "    }\n",
       "</style>\n",
       "<table border=\"1\" class=\"dataframe\">\n",
       "  <thead>\n",
       "    <tr style=\"text-align: right;\">\n",
       "      <th></th>\n",
       "      <th>bulk_campaign_id</th>\n",
       "      <th>client_id</th>\n",
       "    </tr>\n",
       "  </thead>\n",
       "  <tbody>\n",
       "    <tr>\n",
       "      <th>count</th>\n",
       "      <td>12,691,188.00</td>\n",
       "      <td>12,691,188.00</td>\n",
       "    </tr>\n",
       "    <tr>\n",
       "      <th>mean</th>\n",
       "      <td>11,597.68</td>\n",
       "      <td>1,515,915,625,574,722,048.00</td>\n",
       "    </tr>\n",
       "    <tr>\n",
       "      <th>std</th>\n",
       "      <td>3,262.18</td>\n",
       "      <td>132,900,789.00</td>\n",
       "    </tr>\n",
       "    <tr>\n",
       "      <th>min</th>\n",
       "      <td>548.00</td>\n",
       "      <td>1,515,915,625,468,060,928.00</td>\n",
       "    </tr>\n",
       "    <tr>\n",
       "      <th>25%</th>\n",
       "      <td>8,746.00</td>\n",
       "      <td>1,515,915,625,489,147,648.00</td>\n",
       "    </tr>\n",
       "    <tr>\n",
       "      <th>50%</th>\n",
       "      <td>13,516.00</td>\n",
       "      <td>1,515,915,625,503,393,792.00</td>\n",
       "    </tr>\n",
       "    <tr>\n",
       "      <th>75%</th>\n",
       "      <td>14,158.00</td>\n",
       "      <td>1,515,915,625,591,285,504.00</td>\n",
       "    </tr>\n",
       "    <tr>\n",
       "      <th>max</th>\n",
       "      <td>14,657.00</td>\n",
       "      <td>1,515,915,626,010,288,640.00</td>\n",
       "    </tr>\n",
       "  </tbody>\n",
       "</table>\n",
       "</div>"
      ],
      "text/plain": [
       "       bulk_campaign_id                    client_id\n",
       "count     12,691,188.00                12,691,188.00\n",
       "mean          11,597.68 1,515,915,625,574,722,048.00\n",
       "std            3,262.18               132,900,789.00\n",
       "min              548.00 1,515,915,625,468,060,928.00\n",
       "25%            8,746.00 1,515,915,625,489,147,648.00\n",
       "50%           13,516.00 1,515,915,625,503,393,792.00\n",
       "75%           14,158.00 1,515,915,625,591,285,504.00\n",
       "max           14,657.00 1,515,915,626,010,288,640.00"
      ]
     },
     "execution_count": 24,
     "metadata": {},
     "output_type": "execute_result"
    }
   ],
   "source": [
    "# распределение количественых признаков\n",
    "messages_data.select_dtypes(include=np.number).describe()"
   ]
  },
  {
   "cell_type": "code",
   "execution_count": 25,
   "id": "04ad6124",
   "metadata": {},
   "outputs": [
    {
     "data": {
      "text/html": [
       "<div>\n",
       "<style scoped>\n",
       "    .dataframe tbody tr th:only-of-type {\n",
       "        vertical-align: middle;\n",
       "    }\n",
       "\n",
       "    .dataframe tbody tr th {\n",
       "        vertical-align: top;\n",
       "    }\n",
       "\n",
       "    .dataframe thead th {\n",
       "        text-align: right;\n",
       "    }\n",
       "</style>\n",
       "<table border=\"1\" class=\"dataframe\">\n",
       "  <thead>\n",
       "    <tr style=\"text-align: right;\">\n",
       "      <th></th>\n",
       "      <th>date</th>\n",
       "    </tr>\n",
       "  </thead>\n",
       "  <tbody>\n",
       "    <tr>\n",
       "      <th>count</th>\n",
       "      <td>12691188</td>\n",
       "    </tr>\n",
       "    <tr>\n",
       "      <th>mean</th>\n",
       "      <td>2023-06-04 17:27:00.569989632</td>\n",
       "    </tr>\n",
       "    <tr>\n",
       "      <th>min</th>\n",
       "      <td>2022-05-19 00:00:00</td>\n",
       "    </tr>\n",
       "    <tr>\n",
       "      <th>25%</th>\n",
       "      <td>2022-12-16 00:00:00</td>\n",
       "    </tr>\n",
       "    <tr>\n",
       "      <th>50%</th>\n",
       "      <td>2023-07-20 00:00:00</td>\n",
       "    </tr>\n",
       "    <tr>\n",
       "      <th>75%</th>\n",
       "      <td>2023-11-21 00:00:00</td>\n",
       "    </tr>\n",
       "    <tr>\n",
       "      <th>max</th>\n",
       "      <td>2024-02-15 00:00:00</td>\n",
       "    </tr>\n",
       "  </tbody>\n",
       "</table>\n",
       "</div>"
      ],
      "text/plain": [
       "                                date\n",
       "count                       12691188\n",
       "mean   2023-06-04 17:27:00.569989632\n",
       "min              2022-05-19 00:00:00\n",
       "25%              2022-12-16 00:00:00\n",
       "50%              2023-07-20 00:00:00\n",
       "75%              2023-11-21 00:00:00\n",
       "max              2024-02-15 00:00:00"
      ]
     },
     "execution_count": 25,
     "metadata": {},
     "output_type": "execute_result"
    }
   ],
   "source": [
    "# распределение временных признаков\n",
    "messages_data.select_dtypes(include='datetime').describe(datetime_is_numeric=True)"
   ]
  },
  {
   "cell_type": "markdown",
   "id": "6bd7b681",
   "metadata": {},
   "source": [
    "Датасет содержит информацию с 19-05-2022 по 15-02-2024."
   ]
  },
  {
   "cell_type": "code",
   "execution_count": 26,
   "id": "d525fa78",
   "metadata": {},
   "outputs": [
    {
     "data": {
      "text/html": [
       "<div>\n",
       "<style scoped>\n",
       "    .dataframe tbody tr th:only-of-type {\n",
       "        vertical-align: middle;\n",
       "    }\n",
       "\n",
       "    .dataframe tbody tr th {\n",
       "        vertical-align: top;\n",
       "    }\n",
       "\n",
       "    .dataframe thead th {\n",
       "        text-align: right;\n",
       "    }\n",
       "</style>\n",
       "<table border=\"1\" class=\"dataframe\">\n",
       "  <thead>\n",
       "    <tr style=\"text-align: right;\">\n",
       "      <th></th>\n",
       "      <th>count</th>\n",
       "      <th>unique</th>\n",
       "      <th>top</th>\n",
       "      <th>freq</th>\n",
       "    </tr>\n",
       "  </thead>\n",
       "  <tbody>\n",
       "    <tr>\n",
       "      <th>message_id</th>\n",
       "      <td>12691188</td>\n",
       "      <td>9061667</td>\n",
       "      <td>1515915625489095763-6251-6311b13a4cf78</td>\n",
       "      <td>1427</td>\n",
       "    </tr>\n",
       "    <tr>\n",
       "      <th>event</th>\n",
       "      <td>12691188</td>\n",
       "      <td>11</td>\n",
       "      <td>send</td>\n",
       "      <td>9058174</td>\n",
       "    </tr>\n",
       "    <tr>\n",
       "      <th>channel</th>\n",
       "      <td>12691188</td>\n",
       "      <td>2</td>\n",
       "      <td>mobile_push</td>\n",
       "      <td>7470472</td>\n",
       "    </tr>\n",
       "  </tbody>\n",
       "</table>\n",
       "</div>"
      ],
      "text/plain": [
       "               count   unique                                     top     freq\n",
       "message_id  12691188  9061667  1515915625489095763-6251-6311b13a4cf78     1427\n",
       "event       12691188       11                                    send  9058174\n",
       "channel     12691188        2                             mobile_push  7470472"
      ]
     },
     "execution_count": 26,
     "metadata": {},
     "output_type": "execute_result"
    }
   ],
   "source": [
    "# распределение категориальных признаков\n",
    "messages_data.select_dtypes(include='object').describe().T"
   ]
  },
  {
   "cell_type": "code",
   "execution_count": 27,
   "id": "a380fb6e",
   "metadata": {},
   "outputs": [
    {
     "name": "stdout",
     "output_type": "stream",
     "text": [
      "             Количество  Доля (%)  Доля (%) накопленно\n",
      "send            9058174     71.37                71.37\n",
      "open            3052481     24.05                95.42\n",
      "click            483326      3.81                99.23\n",
      "purchase          62593      0.49                99.72\n",
      "hard_bounce       19763      0.16                99.88\n",
      "soft_bounce       10582      0.08                99.96\n",
      "unsubscribe        2833      0.02                99.98\n",
      "hbq_spam            823      0.01                99.99\n",
      "complain            527      0.00                99.99\n",
      "subscribe            85      0.00                99.99\n",
      "close                 1      0.00                99.99\n"
     ]
    }
   ],
   "source": [
    "# количество событий\n",
    "counts = messages_data['event'].value_counts()\n",
    "\n",
    "# Считаем доли (проценты от общего числа)\n",
    "percentages = messages_data['event'].value_counts(normalize=True).mul(100).round(2)\n",
    "\n",
    "# Объединяем в один DataFrame\n",
    "result = pd.DataFrame({\n",
    "    'Количество': counts,\n",
    "    'Доля (%)': percentages,\n",
    "    'Доля (%) накопленно': percentages.cumsum()\n",
    "})\n",
    "\n",
    "# Сортируем по убыванию (опционально)\n",
    "result = result.sort_values('Количество', ascending=False)\n",
    "\n",
    "print(result)"
   ]
  },
  {
   "cell_type": "markdown",
   "id": "17dc5c31",
   "metadata": {},
   "source": [
    "Признак 'event' содержит 11 уникальных значения. Последующая аггрегация признака может привести к потере вариации признаки. Можно заметить, что подавляющее большинство значений это ['send', 'open', 'click', 'purchase'] остальные значения в сумме составляют менее 1.0%. Для предотвращения потери информации при группировки датасетов необходимо осуществить векторизацию признака по типам значений, при этом незначительные категории целесообразно объединить в одну категорию 'other'. "
   ]
  },
  {
   "cell_type": "code",
   "execution_count": 28,
   "id": "2c38437b",
   "metadata": {},
   "outputs": [],
   "source": [
    "# cписок основных событий\n",
    "main_events = ['send', 'open', 'click', 'purchase']\n",
    "\n",
    "# заменяем остальные на 'other'\n",
    "messages_event_arr = np.where(messages_data['event'].isin(main_events), messages_data['event'], 'other')\n",
    "all_categories = main_events + ['other']\n",
    "\n",
    "# создаем и настраиваем OneHotEncoder\n",
    "encoder = OneHotEncoder(sparse_output=False, categories=[all_categories], handle_unknown='ignore')\n",
    "\n",
    "# преобразуем массив и применяем OHE\n",
    "event_data = messages_event_arr.reshape(-1, 1)\n",
    "event_encoded = encoder.fit_transform(event_data)\n",
    "\n",
    "# добавляем event в исходный датасет\n",
    "event_encoded_df = pd.DataFrame(event_encoded, columns=[f'event_{cat}' for cat in all_categories])\n",
    "\n",
    "# объединяем датасеты\n",
    "messages_data = pd.concat([messages_data, event_encoded_df], axis=1)\n",
    "messages_data = messages_data.drop('event', axis=1)"
   ]
  },
  {
   "cell_type": "code",
   "execution_count": 29,
   "id": "2aa83800",
   "metadata": {},
   "outputs": [
    {
     "data": {
      "text/plain": [
       "['email', 'mobile_push']"
      ]
     },
     "execution_count": 29,
     "metadata": {},
     "output_type": "execute_result"
    }
   ],
   "source": [
    "# уникальные значения channel\n",
    "messages_data['channel'].unique().tolist()"
   ]
  },
  {
   "cell_type": "code",
   "execution_count": 30,
   "id": "27ad3e2e",
   "metadata": {},
   "outputs": [
    {
     "name": "stdout",
     "output_type": "stream",
     "text": [
      "             Количество  Доля (%)  Доля накопленно (%)\n",
      "mobile_push     7470472     58.86                58.86\n",
      "email           5220716     41.14               100.00\n"
     ]
    }
   ],
   "source": [
    "# количество событий\n",
    "counts = messages_data['channel'].value_counts()\n",
    "\n",
    "# Считаем доли (проценты от общего числа)\n",
    "percentages = messages_data['channel'].value_counts(normalize=True).mul(100).round(2)\n",
    "\n",
    "# Объединяем в один DataFrame\n",
    "result = pd.DataFrame({\n",
    "    'Количество': counts,\n",
    "    'Доля (%)': percentages,\n",
    "    'Доля накопленно (%)': percentages.cumsum()\n",
    "})\n",
    "\n",
    "result = result.sort_values('Количество', ascending=False)\n",
    "\n",
    "print(result)"
   ]
  },
  {
   "cell_type": "code",
   "execution_count": 31,
   "id": "3fe14229",
   "metadata": {},
   "outputs": [],
   "source": [
    "# определяем основные категории\n",
    "main_channels = ['email', 'mobile_push']\n",
    "\n",
    "# фильтруем данные \n",
    "filtered_data = messages_data[messages_data['channel'].isin(main_channels)].copy()\n",
    "\n",
    "# создаем и настраиваем OneHotEncoder\n",
    "encoder = OneHotEncoder(sparse_output=False, categories=[main_channels], handle_unknown='ignore')\n",
    "\n",
    "# преобразуем и применяем OHE\n",
    "channel_encoded = encoder.fit_transform(filtered_data[['channel']])\n",
    "\n",
    "# добавляем event в исходный датасет\n",
    "channel_encoded_df = pd.DataFrame(channel_encoded, columns=[f'channel_{cat}' for cat in main_channels])\n",
    "messages_data = pd.concat([messages_data, channel_encoded_df], axis=1)\n",
    "messages_data = messages_data.drop('channel', axis=1)"
   ]
  },
  {
   "cell_type": "markdown",
   "id": "aaf642a5",
   "metadata": {},
   "source": [
    "### Датасет \"target_binary\""
   ]
  },
  {
   "cell_type": "code",
   "execution_count": 32,
   "id": "9664a49a",
   "metadata": {},
   "outputs": [
    {
     "data": {
      "text/html": [
       "<div>\n",
       "<style scoped>\n",
       "    .dataframe tbody tr th:only-of-type {\n",
       "        vertical-align: middle;\n",
       "    }\n",
       "\n",
       "    .dataframe tbody tr th {\n",
       "        vertical-align: top;\n",
       "    }\n",
       "\n",
       "    .dataframe thead th {\n",
       "        text-align: right;\n",
       "    }\n",
       "</style>\n",
       "<table border=\"1\" class=\"dataframe\">\n",
       "  <thead>\n",
       "    <tr style=\"text-align: right;\">\n",
       "      <th></th>\n",
       "      <th>client_id</th>\n",
       "      <th>target</th>\n",
       "    </tr>\n",
       "  </thead>\n",
       "  <tbody>\n",
       "    <tr>\n",
       "      <th>0</th>\n",
       "      <td>1515915625468060902</td>\n",
       "      <td>0</td>\n",
       "    </tr>\n",
       "    <tr>\n",
       "      <th>1</th>\n",
       "      <td>1515915625468061003</td>\n",
       "      <td>1</td>\n",
       "    </tr>\n",
       "    <tr>\n",
       "      <th>2</th>\n",
       "      <td>1515915625468061099</td>\n",
       "      <td>0</td>\n",
       "    </tr>\n",
       "    <tr>\n",
       "      <th>3</th>\n",
       "      <td>1515915625468061100</td>\n",
       "      <td>0</td>\n",
       "    </tr>\n",
       "    <tr>\n",
       "      <th>4</th>\n",
       "      <td>1515915625468061170</td>\n",
       "      <td>0</td>\n",
       "    </tr>\n",
       "  </tbody>\n",
       "</table>\n",
       "</div>"
      ],
      "text/plain": [
       "             client_id  target\n",
       "0  1515915625468060902       0\n",
       "1  1515915625468061003       1\n",
       "2  1515915625468061099       0\n",
       "3  1515915625468061100       0\n",
       "4  1515915625468061170       0"
      ]
     },
     "execution_count": 32,
     "metadata": {},
     "output_type": "execute_result"
    }
   ],
   "source": [
    "target_binary.head()"
   ]
  },
  {
   "cell_type": "code",
   "execution_count": 33,
   "id": "161fb878",
   "metadata": {},
   "outputs": [
    {
     "data": {
      "text/html": [
       "<div>\n",
       "<style scoped>\n",
       "    .dataframe tbody tr th:only-of-type {\n",
       "        vertical-align: middle;\n",
       "    }\n",
       "\n",
       "    .dataframe tbody tr th {\n",
       "        vertical-align: top;\n",
       "    }\n",
       "\n",
       "    .dataframe thead th {\n",
       "        text-align: right;\n",
       "    }\n",
       "</style>\n",
       "<table border=\"1\" class=\"dataframe\">\n",
       "  <thead>\n",
       "    <tr style=\"text-align: right;\">\n",
       "      <th></th>\n",
       "      <th>client_id</th>\n",
       "      <th>target</th>\n",
       "    </tr>\n",
       "  </thead>\n",
       "  <tbody>\n",
       "    <tr>\n",
       "      <th>count</th>\n",
       "      <td>49,849.00</td>\n",
       "      <td>49,849.00</td>\n",
       "    </tr>\n",
       "    <tr>\n",
       "      <th>mean</th>\n",
       "      <td>1,515,915,625,598,796,032.00</td>\n",
       "      <td>0.02</td>\n",
       "    </tr>\n",
       "    <tr>\n",
       "      <th>std</th>\n",
       "      <td>148,794,654.89</td>\n",
       "      <td>0.14</td>\n",
       "    </tr>\n",
       "    <tr>\n",
       "      <th>min</th>\n",
       "      <td>1,515,915,625,468,060,928.00</td>\n",
       "      <td>0.00</td>\n",
       "    </tr>\n",
       "    <tr>\n",
       "      <th>25%</th>\n",
       "      <td>1,515,915,625,489,972,736.00</td>\n",
       "      <td>0.00</td>\n",
       "    </tr>\n",
       "    <tr>\n",
       "      <th>50%</th>\n",
       "      <td>1,515,915,625,556,614,912.00</td>\n",
       "      <td>0.00</td>\n",
       "    </tr>\n",
       "    <tr>\n",
       "      <th>75%</th>\n",
       "      <td>1,515,915,625,633,408,768.00</td>\n",
       "      <td>0.00</td>\n",
       "    </tr>\n",
       "    <tr>\n",
       "      <th>max</th>\n",
       "      <td>1,515,915,626,010,443,520.00</td>\n",
       "      <td>1.00</td>\n",
       "    </tr>\n",
       "  </tbody>\n",
       "</table>\n",
       "</div>"
      ],
      "text/plain": [
       "                         client_id    target\n",
       "count                    49,849.00 49,849.00\n",
       "mean  1,515,915,625,598,796,032.00      0.02\n",
       "std                 148,794,654.89      0.14\n",
       "min   1,515,915,625,468,060,928.00      0.00\n",
       "25%   1,515,915,625,489,972,736.00      0.00\n",
       "50%   1,515,915,625,556,614,912.00      0.00\n",
       "75%   1,515,915,625,633,408,768.00      0.00\n",
       "max   1,515,915,626,010,443,520.00      1.00"
      ]
     },
     "execution_count": 33,
     "metadata": {},
     "output_type": "execute_result"
    }
   ],
   "source": [
    "target_binary.describe()"
   ]
  },
  {
   "cell_type": "code",
   "execution_count": 34,
   "id": "ea42324a",
   "metadata": {},
   "outputs": [
    {
     "data": {
      "text/plain": [
       "target\n",
       "0        0.98\n",
       "1        0.02\n",
       "dtype: float64"
      ]
     },
     "execution_count": 34,
     "metadata": {},
     "output_type": "execute_result"
    }
   ],
   "source": [
    "target_binary = target_binary.set_index('client_id')\n",
    "target_binary.value_counts(normalize=True)"
   ]
  },
  {
   "cell_type": "markdown",
   "id": "5e60c6db",
   "metadata": {},
   "source": [
    "Только 2% пользователей готовы совершить покупку в течение 90 дней. Низкое значение положительного значения таргета указывает на существенный дисбаланс класса '1' в общей выборке. Данное обстоятельство потребует решать задачу борьбы с дисбалансом на этапе подготовки данных для обучения модели."
   ]
  },
  {
   "cell_type": "markdown",
   "id": "8761db8e",
   "metadata": {},
   "source": [
    "### Выводы"
   ]
  },
  {
   "cell_type": "markdown",
   "id": "9e7397ce",
   "metadata": {},
   "source": [
    "Данные датасетов проанализированы. Проведена предобработка признаков, уникальные значения проанализированы. Осуществлена предобработка данных. Добавлены дополнительные признаки."
   ]
  },
  {
   "cell_type": "markdown",
   "id": "16ac8b6c",
   "metadata": {},
   "source": [
    "## Исследовательский анализ данных"
   ]
  },
  {
   "cell_type": "markdown",
   "id": "68a81c30",
   "metadata": {},
   "source": [
    "Таргет является бинарным значением проиндексированным по признаку 'client_id', отсюда для подготовки данных для обучения модели имеющиеся признаки должны быть агрегированы и сгруппированы по каждому клиенту ('client_id'). Для решения данной задачи необходимо осуществить слияние и группировку датасетов 'purchases_data' и 'messages_data', а затем расчитать признаки и только после этого объединить с таргетом."
   ]
  },
  {
   "cell_type": "markdown",
   "id": "ecf35fd1",
   "metadata": {},
   "source": [
    "### Анализ признаков и объединение датасетов"
   ]
  },
  {
   "cell_type": "markdown",
   "id": "00d24313",
   "metadata": {},
   "source": [
    "Имеющиеся данные по клиентам размещены в двух датасетах: purcshases_data и messages_data. В рамках загрузки и предобработки были выявлены общие признаки по которым можно произвести объединение этих данных ('client_id' и 'message_id'). Проанализируем пересечение индексных признаков."
   ]
  },
  {
   "cell_type": "code",
   "execution_count": 35,
   "id": "7f93048a",
   "metadata": {},
   "outputs": [
    {
     "name": "stdout",
     "output_type": "stream",
     "text": [
      "Всего не совпадающих клиентов: 19214, в т.ч.:\n",
      " - покупатели без сообщений: 7867\n",
      " - сообщения без покупателей: 11347\n"
     ]
    }
   ],
   "source": [
    "message_client_ids = set(messages_data['client_id'].values)\n",
    "purchase_client_ids = set(purchases_data['client_id'].values)\n",
    "all_ = message_client_ids.symmetric_difference(purchase_client_ids)\n",
    "purch_ = purchase_client_ids.difference(message_client_ids)\n",
    "mess_ = message_client_ids.difference(purchase_client_ids)\n",
    "print(f'Всего не совпадающих клиентов: {len(all_)}, в т.ч.:')\n",
    "print(f' - покупатели без сообщений: {len(purch_)}')\n",
    "print(f' - сообщения без покупателей: {len(mess_)}')"
   ]
  },
  {
   "cell_type": "markdown",
   "id": "79eb5f89",
   "metadata": {},
   "source": [
    "Объединим датасеты покупок и рассылок "
   ]
  },
  {
   "cell_type": "markdown",
   "id": "8abf41fe",
   "metadata": {},
   "source": [
    "Датасет 'purchases_data' содержит 7867 покупателей без данных из 'messages_data'. При этом 'messages_data' содержит 11347 клиентов которые отсутствуют в 'purchases_data'. Для дальнейшего анализа необходимо объединить датасеты и обработать пропущенные значения. Для заполнения пропущенных значений после объединения датасетов будем использовать модель DecisionTreeClassifier для категориальных признаков и DecisionTreeRegressor для количественных признаков."
   ]
  },
  {
   "cell_type": "code",
   "execution_count": 36,
   "id": "50d37870",
   "metadata": {},
   "outputs": [],
   "source": [
    "# объединим датасеты покупки и сообщений\n",
    "joined_data = purchases_data.merge(messages_data, how='left', on=['client_id', 'message_id'])\n",
    "\n",
    "# заполним пропущенные значения 'date' в 'purchases_data' значениями 'messages_data' \n",
    "joined_data['date_y'] = joined_data['date_y'].fillna(joined_data['date_x'])"
   ]
  },
  {
   "cell_type": "code",
   "execution_count": 37,
   "id": "55861a43",
   "metadata": {},
   "outputs": [],
   "source": [
    "# функция замены пропущенных значений для категориальных признаков\n",
    "def decision_tree_cat_imputer(data: pd.DataFrame, target: str, tree_depth=10) -> pd.Series:\n",
    " \n",
    "    # копируем данные\n",
    "    df = data.copy()\n",
    "\n",
    "    # Разделяем данные на обучающую и тестовую выборки\n",
    "    train_df = df[df[target].notna()]\n",
    "    test_df = df[df[target].isna()]\n",
    "    \n",
    "    # определяем признаки, исключая сложные типы данных\n",
    "    def is_simple_type(x):\n",
    "        return isinstance(x, (str, int, float, type(None)))\n",
    "    \n",
    "    cat_cols = []\n",
    "    for col in df.select_dtypes(include=['object']).columns:\n",
    "        if col != target and df[col].apply(is_simple_type).all():\n",
    "            cat_cols.append(col)\n",
    "    \n",
    "    num_cols = [col for col in df.select_dtypes(include=['number']).columns \n",
    "               if col != target]\n",
    "    \n",
    "    # если нет категориальных признаков, используем только числовые\n",
    "    if not cat_cols:\n",
    "        preprocessor = ColumnTransformer(\n",
    "            transformers=[\n",
    "                ('num', SimpleImputer(strategy='mean'), num_cols)\n",
    "            ],\n",
    "            remainder='drop'\n",
    "        )\n",
    "    else:\n",
    "        preprocessor = ColumnTransformer(\n",
    "            transformers=[\n",
    "                ('cat', OneHotEncoder(handle_unknown='ignore'), cat_cols),\n",
    "                ('num', SimpleImputer(strategy='mean'), num_cols)\n",
    "            ],\n",
    "            remainder='drop'\n",
    "        )\n",
    "    \n",
    "    # кодируем целевой признак\n",
    "    try:\n",
    "        target_encoder = LabelEncoder()\n",
    "        y_train = target_encoder.fit_transform(train_df[target].astype(str))\n",
    "    except Exception as e:\n",
    "        print(f\"Ошибка при кодировании целевого признака {target}: {e}\")\n",
    "        return pd.Series(dtype=object)\n",
    "    \n",
    "    # преобразуем признаки\n",
    "    try:\n",
    "        X_train = preprocessor.fit_transform(train_df)\n",
    "        X_test = preprocessor.transform(test_df)\n",
    "    except Exception as e:\n",
    "        print(f\"Ошибка при преобразовании признаков для {target}: {e}\")\n",
    "        return pd.Series(dtype=object)\n",
    "    \n",
    "    # обучаем модель и делаем предсказания\n",
    "    try:\n",
    "        clf = DecisionTreeClassifier(max_depth=tree_depth, random_state=RANDOM_STATE)\n",
    "        clf.fit(X_train, y_train)\n",
    "        y_pred = clf.predict(X_test)\n",
    "        predict_labels = target_encoder.inverse_transform(y_pred)\n",
    "    except Exception as e:\n",
    "        print(f\"Ошибка при обучении модели для {target}: {e}\")\n",
    "        return pd.Series(dtype=object)\n",
    "    \n",
    "    return pd.Series(predict_labels, index=test_df.index)"
   ]
  },
  {
   "cell_type": "code",
   "execution_count": 38,
   "id": "b128491e",
   "metadata": {},
   "outputs": [],
   "source": [
    "# функция замены пропущенных значений для количественных признаков\n",
    "def decision_tree_num_imputer(data: pd.DataFrame, target: str, tree_depth=20) -> pd.Series:\n",
    "\n",
    "    # копируем данные\n",
    "    df = data.copy()\n",
    "    \n",
    "    # разделяем данные на обучающую и тестовую выборки\n",
    "    train_df = df[df[target].notna()]\n",
    "    test_df = df[df[target].isna()]\n",
    "    \n",
    "    # определяем признаки, исключая сложные типы данных\n",
    "    def is_simple_type(x):\n",
    "        return isinstance(x, (str, int, float, type(None)))\n",
    "    \n",
    "    cat_cols = []\n",
    "    for col in df.select_dtypes(include=['object']).columns:\n",
    "        if col != target and df[col].apply(is_simple_type).all():\n",
    "            cat_cols.append(col)\n",
    "    \n",
    "    num_cols = [col for col in df.select_dtypes(include=['number']).columns \n",
    "               if col != target]\n",
    "    \n",
    "    # если нет категориальных признаков, используем только числовые\n",
    "    if not cat_cols:\n",
    "        preprocessor = ColumnTransformer(\n",
    "            transformers=[\n",
    "                ('num', SimpleImputer(strategy='mean'), num_cols)\n",
    "            ],\n",
    "            remainder='drop'\n",
    "        )\n",
    "    else:\n",
    "        preprocessor = ColumnTransformer(\n",
    "            transformers=[\n",
    "                ('cat', OneHotEncoder(handle_unknown='ignore'), cat_cols),\n",
    "                ('num', SimpleImputer(strategy='mean'), num_cols)\n",
    "            ],\n",
    "            remainder='drop'\n",
    "        )\n",
    "    \n",
    "    # преобразуем признаки\n",
    "    try:\n",
    "        X_train = preprocessor.fit_transform(train_df)\n",
    "        y_train = train_df[target].values\n",
    "        X_test = preprocessor.transform(test_df)\n",
    "    except Exception as e:\n",
    "        print(f\"Ошибка при преобразовании признаков для {target}: {e}\")\n",
    "        return pd.Series(dtype=float)\n",
    "    \n",
    "    # обучаем модель и делаем предсказания\n",
    "    try:\n",
    "        reg = DecisionTreeRegressor(max_depth=tree_depth, random_state=RANDOM_STATE)\n",
    "        reg.fit(X_train, y_train)\n",
    "        y_pred = reg.predict(X_test)\n",
    "    except Exception as e:\n",
    "        print(f\"Ошибка при обучении модели для {target}: {e}\")\n",
    "        return pd.Series(dtype=float)\n",
    "    \n",
    "    return pd.Series(y_pred, index=test_df.index)"
   ]
  },
  {
   "cell_type": "code",
   "execution_count": 39,
   "id": "5d94174f",
   "metadata": {},
   "outputs": [
    {
     "name": "stdout",
     "output_type": "stream",
     "text": [
      "Количество пропущенных значений:\n",
      " * category_ids_str_short: 24669 (2.94%)\n",
      " * category_ids_first: 24669 (2.94%)\n",
      " * category_ids_last: 24669 (2.94%)\n",
      " * bulk_campaign_id: 56428 (6.74%)\n",
      " * event_send: 56428 (6.74%)\n",
      " * event_open: 56428 (6.74%)\n",
      " * event_click: 56428 (6.74%)\n",
      " * event_purchase: 56428 (6.74%)\n",
      " * event_other: 56428 (6.74%)\n",
      " * channel_email: 56428 (6.74%)\n",
      " * channel_mobile_push: 56428 (6.74%)\n"
     ]
    }
   ],
   "source": [
    "print('Количество пропущенных значений:')\n",
    "missed_data_cols = []\n",
    "for col in joined_data.columns:\n",
    "    na = sum(joined_data[col].isna())\n",
    "    if na > 0:\n",
    "        missed_data_cols.append(col)\n",
    "        print(f\" * {col}: {na} ({na / len(joined_data[col]) * 100:.2f}%)\")"
   ]
  },
  {
   "cell_type": "code",
   "execution_count": null,
   "id": "3b48ffc4",
   "metadata": {},
   "outputs": [],
   "source": []
  },
  {
   "cell_type": "code",
   "execution_count": 40,
   "id": "8edbdeec",
   "metadata": {},
   "outputs": [],
   "source": [
    "# формируем списки признаков по типам\n",
    "cat_cols = joined_data.select_dtypes(include='object').columns.to_list()\n",
    "num_cols = joined_data.select_dtypes(include='number').columns.to_list()\n",
    "cat_cols_missed = list(set(missed_data_cols) - set(num_cols))\n",
    "num_cols_missed = list(set(missed_data_cols) - set(cat_cols))"
   ]
  },
  {
   "cell_type": "code",
   "execution_count": 41,
   "id": "abb64735",
   "metadata": {},
   "outputs": [
    {
     "name": "stderr",
     "output_type": "stream",
     "text": [
      "Обработка количественных признаков:  12%|█▎        | 1/8 [00:04<00:32,  4.66s/it]"
     ]
    },
    {
     "name": "stdout",
     "output_type": "stream",
     "text": [
      "Обработан event_send\n"
     ]
    },
    {
     "name": "stderr",
     "output_type": "stream",
     "text": [
      "Обработка количественных признаков:  25%|██▌       | 2/8 [00:08<00:25,  4.17s/it]"
     ]
    },
    {
     "name": "stdout",
     "output_type": "stream",
     "text": [
      "Обработан channel_email\n"
     ]
    },
    {
     "name": "stderr",
     "output_type": "stream",
     "text": [
      "Обработка количественных признаков:  38%|███▊      | 3/8 [00:21<00:41,  8.21s/it]"
     ]
    },
    {
     "name": "stdout",
     "output_type": "stream",
     "text": [
      "Обработан event_other\n"
     ]
    },
    {
     "name": "stderr",
     "output_type": "stream",
     "text": [
      "Обработка количественных признаков:  50%|█████     | 4/8 [00:25<00:26,  6.74s/it]"
     ]
    },
    {
     "name": "stdout",
     "output_type": "stream",
     "text": [
      "Обработан event_purchase\n"
     ]
    },
    {
     "name": "stderr",
     "output_type": "stream",
     "text": [
      "Обработка количественных признаков:  62%|██████▎   | 5/8 [00:45<00:34, 11.39s/it]"
     ]
    },
    {
     "name": "stdout",
     "output_type": "stream",
     "text": [
      "Обработан bulk_campaign_id\n"
     ]
    },
    {
     "name": "stderr",
     "output_type": "stream",
     "text": [
      "Обработка количественных признаков:  75%|███████▌  | 6/8 [00:50<00:18,  9.13s/it]"
     ]
    },
    {
     "name": "stdout",
     "output_type": "stream",
     "text": [
      "Обработан event_click\n"
     ]
    },
    {
     "name": "stderr",
     "output_type": "stream",
     "text": [
      "Обработка количественных признаков:  88%|████████▊ | 7/8 [00:54<00:07,  7.65s/it]"
     ]
    },
    {
     "name": "stdout",
     "output_type": "stream",
     "text": [
      "Обработан event_open\n"
     ]
    },
    {
     "name": "stderr",
     "output_type": "stream",
     "text": [
      "Обработка количественных признаков: 100%|██████████| 8/8 [00:58<00:00,  7.36s/it]\n"
     ]
    },
    {
     "name": "stdout",
     "output_type": "stream",
     "text": [
      "Обработан channel_mobile_push\n"
     ]
    },
    {
     "name": "stderr",
     "output_type": "stream",
     "text": [
      "Обработка категориальных признаков:  33%|███▎      | 1/3 [00:12<00:25, 12.54s/it]"
     ]
    },
    {
     "name": "stdout",
     "output_type": "stream",
     "text": [
      "Обработан category_ids_first\n"
     ]
    },
    {
     "name": "stderr",
     "output_type": "stream",
     "text": [
      "Обработка категориальных признаков:  67%|██████▋   | 2/3 [00:26<00:13, 13.25s/it]"
     ]
    },
    {
     "name": "stdout",
     "output_type": "stream",
     "text": [
      "Обработан category_ids_last\n"
     ]
    },
    {
     "name": "stderr",
     "output_type": "stream",
     "text": [
      "Обработка категориальных признаков: 100%|██████████| 3/3 [00:39<00:00, 13.28s/it]"
     ]
    },
    {
     "name": "stdout",
     "output_type": "stream",
     "text": [
      "Обработан category_ids_str_short\n"
     ]
    },
    {
     "name": "stderr",
     "output_type": "stream",
     "text": [
      "\n"
     ]
    }
   ],
   "source": [
    "# заполняем пропуски в количественных признаках\n",
    "for col in tqdm(num_cols_missed, desc='Обработка количественных признаков'):\n",
    "        pred_series = decision_tree_num_imputer(joined_data, col, 20)\n",
    "        joined_data.loc[pred_series.index, col] = pred_series\n",
    "        print(f'Обработан {col}')\n",
    "\n",
    "# заполняем пропуски в категориальных признаках\n",
    "for col in tqdm(cat_cols_missed, desc='Обработка категориальных признаков'):\n",
    "        pred_series = decision_tree_cat_imputer(joined_data, col, 20)\n",
    "        joined_data.loc[pred_series.index, col] = pred_series\n",
    "        print(f'Обработан {col}')"
   ]
  },
  {
   "cell_type": "code",
   "execution_count": 42,
   "id": "b1919b52",
   "metadata": {},
   "outputs": [
    {
     "name": "stdout",
     "output_type": "stream",
     "text": [
      "<class 'pandas.core.frame.DataFrame'>\n",
      "Int64Index: 837739 entries, 0 to 837738\n",
      "Data columns (total 21 columns):\n",
      " #   Column                  Non-Null Count   Dtype         \n",
      "---  ------                  --------------   -----         \n",
      " 0   client_id               837739 non-null  int64         \n",
      " 1   quantity                837739 non-null  int64         \n",
      " 2   price                   837739 non-null  float64       \n",
      " 3   category_ids            837739 non-null  object        \n",
      " 4   date_x                  837739 non-null  datetime64[ns]\n",
      " 5   message_id              837739 non-null  object        \n",
      " 6   total                   837739 non-null  float64       \n",
      " 7   category_ids_str        837739 non-null  object        \n",
      " 8   category_ids_str_short  837739 non-null  object        \n",
      " 9   category_ids_first      837739 non-null  object        \n",
      " 10  category_ids_last       837739 non-null  object        \n",
      " 11  recency_purchase        837739 non-null  int64         \n",
      " 12  bulk_campaign_id        837739 non-null  float64       \n",
      " 13  date_y                  837739 non-null  datetime64[ns]\n",
      " 14  event_send              837739 non-null  float64       \n",
      " 15  event_open              837739 non-null  float64       \n",
      " 16  event_click             837739 non-null  float64       \n",
      " 17  event_purchase          837739 non-null  float64       \n",
      " 18  event_other             837739 non-null  float64       \n",
      " 19  channel_email           837739 non-null  float64       \n",
      " 20  channel_mobile_push     837739 non-null  float64       \n",
      "dtypes: datetime64[ns](2), float64(10), int64(3), object(6)\n",
      "memory usage: 172.9+ MB\n"
     ]
    }
   ],
   "source": [
    "joined_data.info()"
   ]
  },
  {
   "cell_type": "markdown",
   "id": "d93f11d6",
   "metadata": {},
   "source": [
    "Полученный датасет содержит 782824 строки и 15 признаков."
   ]
  },
  {
   "cell_type": "code",
   "execution_count": 43,
   "id": "9830f766",
   "metadata": {},
   "outputs": [],
   "source": [
    "def get_mode(series):\n",
    "    modes = series.mode()\n",
    "    return modes[0] if not modes.empty else np.nan\n",
    "\n",
    "# Преобразуем числовые колонки, где есть запятые в качестве разделителей тысяч\n",
    "numeric_cols = ['total', 'price', 'recency_purchase', 'event_send', 'event_open', \n",
    "                'event_click', 'event_purchase', 'event_other', 'channel_email', \n",
    "                'channel_mobile_push', 'bulk_campaign_id']\n",
    "\n",
    "for col in numeric_cols:\n",
    "    if col in joined_data.columns:\n",
    "        joined_data[col] = joined_data[col].astype(str).str.replace(',', '').astype(float)\n",
    "\n",
    "# Расчет агрегированных метрик\n",
    "grouped_data = joined_data.groupby('client_id').agg(\n",
    "    total_sum=('total', 'sum'),\n",
    "    total_count=('total', 'count'),\n",
    "    total_mean=('total', 'mean'),\n",
    "    total_std=('total', 'std'),\n",
    "    total_max=('total', 'max'),\n",
    "    total_min=('total', 'min'),\n",
    "    \n",
    "    price_mean=('price', 'mean'),\n",
    "    price_std=('price', 'std'),\n",
    "    \n",
    "    quantity_sum=('quantity', 'sum'),\n",
    "    quantity_mean=('quantity', 'mean'),\n",
    "    quantity_std=('quantity', 'std'),\n",
    "    \n",
    "    category_unique=('category_ids_str', 'nunique'),\n",
    "    category_moda=('category_ids_str', get_mode),\n",
    "    \n",
    "    event_send_count=('event_send', 'sum'),\n",
    "    event_open_count=('event_open', 'sum'),\n",
    "    event_click_count=('event_click', 'sum'),\n",
    "    event_purchase_count=('event_purchase', 'sum'),\n",
    "    event_other_count=('event_other', 'sum'),\n",
    "    \n",
    "    channel_email_count=('channel_email', 'sum'),\n",
    "    channel_mobile_push_count=('channel_mobile_push', 'sum'),\n",
    "    \n",
    "    bulk_campaign_count=('bulk_campaign_id', 'count'),\n",
    "    bulk_campaign_unique=('bulk_campaign_id', 'nunique'),\n",
    "    \n",
    "    message_unique=('message_id', 'nunique'),\n",
    "    \n",
    "    date_purchase_min=('date_x', 'min'),\n",
    "    date_purchase_max=('date_x', 'max'),\n",
    "    date_purchase_unique=('date_x', 'nunique'),\n",
    "    \n",
    "    recency_purchase_mean=('recency_purchase', 'mean'),\n",
    "    recency_purchase_max=('recency_purchase', 'max'),\n",
    "    recency_purchase_min=('recency_purchase', 'min')\n",
    ").reset_index()"
   ]
  },
  {
   "cell_type": "code",
   "execution_count": 44,
   "id": "4dc8ae41",
   "metadata": {},
   "outputs": [
    {
     "name": "stdout",
     "output_type": "stream",
     "text": [
      "<class 'pandas.core.frame.DataFrame'>\n",
      "Int64Index: 47537 entries, 1515915625468060902 to 1515915626010439406\n",
      "Data columns (total 30 columns):\n",
      " #   Column                     Non-Null Count  Dtype         \n",
      "---  ------                     --------------  -----         \n",
      " 0   target                     47537 non-null  int64         \n",
      " 1   total_sum                  47537 non-null  float64       \n",
      " 2   total_count                47537 non-null  int64         \n",
      " 3   total_mean                 47537 non-null  float64       \n",
      " 4   total_std                  47537 non-null  float64       \n",
      " 5   total_max                  47537 non-null  float64       \n",
      " 6   total_min                  47537 non-null  float64       \n",
      " 7   price_mean                 47537 non-null  float64       \n",
      " 8   price_std                  47537 non-null  float64       \n",
      " 9   quantity_sum               47537 non-null  int64         \n",
      " 10  quantity_mean              47537 non-null  float64       \n",
      " 11  quantity_std               47537 non-null  float64       \n",
      " 12  category_unique            47537 non-null  int64         \n",
      " 13  category_moda              47537 non-null  object        \n",
      " 14  event_send_count           47537 non-null  float64       \n",
      " 15  event_open_count           47537 non-null  float64       \n",
      " 16  event_click_count          47537 non-null  float64       \n",
      " 17  event_purchase_count       47537 non-null  float64       \n",
      " 18  event_other_count          47537 non-null  float64       \n",
      " 19  channel_email_count        47537 non-null  float64       \n",
      " 20  channel_mobile_push_count  47537 non-null  float64       \n",
      " 21  bulk_campaign_count        47537 non-null  int64         \n",
      " 22  bulk_campaign_unique       47537 non-null  int64         \n",
      " 23  message_unique             47537 non-null  int64         \n",
      " 24  date_purchase_min          47537 non-null  datetime64[ns]\n",
      " 25  date_purchase_max          47537 non-null  datetime64[ns]\n",
      " 26  date_purchase_unique       47537 non-null  int64         \n",
      " 27  recency_purchase_mean      47537 non-null  float64       \n",
      " 28  recency_purchase_max       47537 non-null  float64       \n",
      " 29  recency_purchase_min       47537 non-null  float64       \n",
      "dtypes: datetime64[ns](2), float64(19), int64(8), object(1)\n",
      "memory usage: 11.2+ MB\n",
      "None\n"
     ]
    },
    {
     "data": {
      "text/html": [
       "<div>\n",
       "<style scoped>\n",
       "    .dataframe tbody tr th:only-of-type {\n",
       "        vertical-align: middle;\n",
       "    }\n",
       "\n",
       "    .dataframe tbody tr th {\n",
       "        vertical-align: top;\n",
       "    }\n",
       "\n",
       "    .dataframe thead th {\n",
       "        text-align: right;\n",
       "    }\n",
       "</style>\n",
       "<table border=\"1\" class=\"dataframe\">\n",
       "  <thead>\n",
       "    <tr style=\"text-align: right;\">\n",
       "      <th></th>\n",
       "      <th>target</th>\n",
       "      <th>total_sum</th>\n",
       "      <th>total_count</th>\n",
       "      <th>total_mean</th>\n",
       "      <th>total_std</th>\n",
       "      <th>total_max</th>\n",
       "      <th>total_min</th>\n",
       "      <th>price_mean</th>\n",
       "      <th>price_std</th>\n",
       "      <th>quantity_sum</th>\n",
       "      <th>...</th>\n",
       "      <th>channel_mobile_push_count</th>\n",
       "      <th>bulk_campaign_count</th>\n",
       "      <th>bulk_campaign_unique</th>\n",
       "      <th>message_unique</th>\n",
       "      <th>date_purchase_min</th>\n",
       "      <th>date_purchase_max</th>\n",
       "      <th>date_purchase_unique</th>\n",
       "      <th>recency_purchase_mean</th>\n",
       "      <th>recency_purchase_max</th>\n",
       "      <th>recency_purchase_min</th>\n",
       "    </tr>\n",
       "    <tr>\n",
       "      <th>client_id</th>\n",
       "      <th></th>\n",
       "      <th></th>\n",
       "      <th></th>\n",
       "      <th></th>\n",
       "      <th></th>\n",
       "      <th></th>\n",
       "      <th></th>\n",
       "      <th></th>\n",
       "      <th></th>\n",
       "      <th></th>\n",
       "      <th></th>\n",
       "      <th></th>\n",
       "      <th></th>\n",
       "      <th></th>\n",
       "      <th></th>\n",
       "      <th></th>\n",
       "      <th></th>\n",
       "      <th></th>\n",
       "      <th></th>\n",
       "      <th></th>\n",
       "      <th></th>\n",
       "    </tr>\n",
       "  </thead>\n",
       "  <tbody>\n",
       "    <tr>\n",
       "      <th>1515915625468060902</th>\n",
       "      <td>0</td>\n",
       "      <td>76,923.00</td>\n",
       "      <td>77</td>\n",
       "      <td>999.00</td>\n",
       "      <td>747.45</td>\n",
       "      <td>1,999.00</td>\n",
       "      <td>199.00</td>\n",
       "      <td>999.00</td>\n",
       "      <td>747.45</td>\n",
       "      <td>77</td>\n",
       "      <td>...</td>\n",
       "      <td>0.00</td>\n",
       "      <td>77</td>\n",
       "      <td>1</td>\n",
       "      <td>1</td>\n",
       "      <td>2022-05-27</td>\n",
       "      <td>2022-05-27</td>\n",
       "      <td>1</td>\n",
       "      <td>630.00</td>\n",
       "      <td>630.00</td>\n",
       "      <td>630.00</td>\n",
       "    </tr>\n",
       "    <tr>\n",
       "      <th>1515915625468061003</th>\n",
       "      <td>1</td>\n",
       "      <td>64,940.00</td>\n",
       "      <td>28</td>\n",
       "      <td>2,319.29</td>\n",
       "      <td>528.44</td>\n",
       "      <td>3,499.00</td>\n",
       "      <td>1,749.00</td>\n",
       "      <td>2,319.29</td>\n",
       "      <td>528.44</td>\n",
       "      <td>28</td>\n",
       "      <td>...</td>\n",
       "      <td>0.00</td>\n",
       "      <td>28</td>\n",
       "      <td>1</td>\n",
       "      <td>1</td>\n",
       "      <td>2023-01-04</td>\n",
       "      <td>2023-01-04</td>\n",
       "      <td>1</td>\n",
       "      <td>408.00</td>\n",
       "      <td>408.00</td>\n",
       "      <td>408.00</td>\n",
       "    </tr>\n",
       "    <tr>\n",
       "      <th>1515915625468061100</th>\n",
       "      <td>0</td>\n",
       "      <td>8,392.00</td>\n",
       "      <td>8</td>\n",
       "      <td>1,049.00</td>\n",
       "      <td>0.00</td>\n",
       "      <td>1,049.00</td>\n",
       "      <td>1,049.00</td>\n",
       "      <td>1,049.00</td>\n",
       "      <td>0.00</td>\n",
       "      <td>8</td>\n",
       "      <td>...</td>\n",
       "      <td>8.00</td>\n",
       "      <td>8</td>\n",
       "      <td>1</td>\n",
       "      <td>1</td>\n",
       "      <td>2024-02-10</td>\n",
       "      <td>2024-02-10</td>\n",
       "      <td>1</td>\n",
       "      <td>6.00</td>\n",
       "      <td>6.00</td>\n",
       "      <td>6.00</td>\n",
       "    </tr>\n",
       "    <tr>\n",
       "      <th>1515915625468061170</th>\n",
       "      <td>0</td>\n",
       "      <td>147,643.00</td>\n",
       "      <td>85</td>\n",
       "      <td>1,736.98</td>\n",
       "      <td>902.17</td>\n",
       "      <td>2,699.00</td>\n",
       "      <td>7.00</td>\n",
       "      <td>1,736.98</td>\n",
       "      <td>902.17</td>\n",
       "      <td>85</td>\n",
       "      <td>...</td>\n",
       "      <td>0.00</td>\n",
       "      <td>85</td>\n",
       "      <td>3</td>\n",
       "      <td>3</td>\n",
       "      <td>2023-03-26</td>\n",
       "      <td>2023-06-17</td>\n",
       "      <td>3</td>\n",
       "      <td>316.52</td>\n",
       "      <td>327.00</td>\n",
       "      <td>244.00</td>\n",
       "    </tr>\n",
       "    <tr>\n",
       "      <th>1515915625468061514</th>\n",
       "      <td>0</td>\n",
       "      <td>3,996.00</td>\n",
       "      <td>4</td>\n",
       "      <td>999.00</td>\n",
       "      <td>0.00</td>\n",
       "      <td>999.00</td>\n",
       "      <td>999.00</td>\n",
       "      <td>999.00</td>\n",
       "      <td>0.00</td>\n",
       "      <td>4</td>\n",
       "      <td>...</td>\n",
       "      <td>0.00</td>\n",
       "      <td>4</td>\n",
       "      <td>1</td>\n",
       "      <td>1</td>\n",
       "      <td>2022-07-30</td>\n",
       "      <td>2022-07-30</td>\n",
       "      <td>1</td>\n",
       "      <td>566.00</td>\n",
       "      <td>566.00</td>\n",
       "      <td>566.00</td>\n",
       "    </tr>\n",
       "  </tbody>\n",
       "</table>\n",
       "<p>5 rows × 30 columns</p>\n",
       "</div>"
      ],
      "text/plain": [
       "                     target  total_sum  total_count  total_mean  total_std  \\\n",
       "client_id                                                                    \n",
       "1515915625468060902       0  76,923.00           77      999.00     747.45   \n",
       "1515915625468061003       1  64,940.00           28    2,319.29     528.44   \n",
       "1515915625468061100       0   8,392.00            8    1,049.00       0.00   \n",
       "1515915625468061170       0 147,643.00           85    1,736.98     902.17   \n",
       "1515915625468061514       0   3,996.00            4      999.00       0.00   \n",
       "\n",
       "                     total_max  total_min  price_mean  price_std  \\\n",
       "client_id                                                          \n",
       "1515915625468060902   1,999.00     199.00      999.00     747.45   \n",
       "1515915625468061003   3,499.00   1,749.00    2,319.29     528.44   \n",
       "1515915625468061100   1,049.00   1,049.00    1,049.00       0.00   \n",
       "1515915625468061170   2,699.00       7.00    1,736.98     902.17   \n",
       "1515915625468061514     999.00     999.00      999.00       0.00   \n",
       "\n",
       "                     quantity_sum  ...  channel_mobile_push_count  \\\n",
       "client_id                          ...                              \n",
       "1515915625468060902            77  ...                       0.00   \n",
       "1515915625468061003            28  ...                       0.00   \n",
       "1515915625468061100             8  ...                       8.00   \n",
       "1515915625468061170            85  ...                       0.00   \n",
       "1515915625468061514             4  ...                       0.00   \n",
       "\n",
       "                     bulk_campaign_count  bulk_campaign_unique message_unique  \\\n",
       "client_id                                                                       \n",
       "1515915625468060902                   77                     1              1   \n",
       "1515915625468061003                   28                     1              1   \n",
       "1515915625468061100                    8                     1              1   \n",
       "1515915625468061170                   85                     3              3   \n",
       "1515915625468061514                    4                     1              1   \n",
       "\n",
       "                     date_purchase_min  date_purchase_max  \\\n",
       "client_id                                                   \n",
       "1515915625468060902         2022-05-27         2022-05-27   \n",
       "1515915625468061003         2023-01-04         2023-01-04   \n",
       "1515915625468061100         2024-02-10         2024-02-10   \n",
       "1515915625468061170         2023-03-26         2023-06-17   \n",
       "1515915625468061514         2022-07-30         2022-07-30   \n",
       "\n",
       "                     date_purchase_unique  recency_purchase_mean  \\\n",
       "client_id                                                          \n",
       "1515915625468060902                     1                 630.00   \n",
       "1515915625468061003                     1                 408.00   \n",
       "1515915625468061100                     1                   6.00   \n",
       "1515915625468061170                     3                 316.52   \n",
       "1515915625468061514                     1                 566.00   \n",
       "\n",
       "                     recency_purchase_max  recency_purchase_min  \n",
       "client_id                                                        \n",
       "1515915625468060902                630.00                630.00  \n",
       "1515915625468061003                408.00                408.00  \n",
       "1515915625468061100                  6.00                  6.00  \n",
       "1515915625468061170                327.00                244.00  \n",
       "1515915625468061514                566.00                566.00  \n",
       "\n",
       "[5 rows x 30 columns]"
      ]
     },
     "execution_count": 44,
     "metadata": {},
     "output_type": "execute_result"
    }
   ],
   "source": [
    "# перенесем 'client_id' в индекс \n",
    "data_features_full = grouped_data.set_index('client_id')\n",
    "\n",
    "# объединим таргет и сгруппированные признаки\n",
    "data_features_full = target_binary.merge(data_features_full, how='left', on='client_id')\n",
    "\n",
    "# исключаем пропущенные значения\n",
    "data_features_full = data_features_full.dropna()\n",
    "print(data_features_full.info())\n",
    "\n",
    "# проанализируем полученный датасет\n",
    "data_features_full.head()"
   ]
  },
  {
   "cell_type": "markdown",
   "id": "61abb620",
   "metadata": {},
   "source": [
    "Добавим новые признаки:"
   ]
  },
  {
   "cell_type": "code",
   "execution_count": 45,
   "id": "0bc5a9ba",
   "metadata": {},
   "outputs": [],
   "source": [
    "# RFM (Recency, Frequency, Monetary)\n",
    "scaler = MinMaxScaler()\n",
    "rfm_features = ['recency_purchase_min', 'total_count', 'total_sum']\n",
    "data_features_full['RFM_Score'] = pd.DataFrame(\n",
    "    scaler.fit_transform(data_features_full[rfm_features]),\n",
    "    columns=rfm_features, index=data_features_full.index\n",
    ").sum(axis=1)\n",
    "\n",
    "# период активности клиента (в днях)\n",
    "grouped_data['customer_lifetime_days'] = (grouped_data['date_purchase_max'] - grouped_data['date_purchase_min']).dt.days\n",
    "\n",
    "# Purchase Frequency Rate\n",
    "data_features_full['purchase_frequency'] = (\n",
    "    data_features_full['total_count'] / \n",
    "    (data_features_full['date_purchase_max'] - data_features_full['date_purchase_min']).dt.days.clip(lower=1)\n",
    ")\n",
    "\n",
    "# коэффициент вариации суммы покупок\n",
    "grouped_data['total_coef_var'] = grouped_data['total_std'] / grouped_data['total_mean']\n",
    "\n",
    "# коэффициент категорийной диверсификация\n",
    "data_features_full['Category_Diversity'] = (\n",
    "    data_features_full['category_unique'] / \n",
    "    data_features_full['total_count'].replace(0, 1)\n",
    ")\n",
    "\n",
    "# коэффициент вовлеченности\n",
    "data_features_full['engagement_score'] = (\n",
    "    (data_features_full['event_send_count'] + data_features_full['channel_email_count']) / \n",
    "    data_features_full['total_count'].replace(0, 1)\n",
    ")\n",
    "\n",
    "# коэффициент конверсации кликов\n",
    "data_features_full['conversion_after_click'] = (\n",
    "    data_features_full['event_purchase_count'] / data_features_full['event_click_count']\n",
    "    ).replace(0, 1)\n",
    "\n",
    "# коэффициент уровня отклика\n",
    "data_features_full['response_rate'] = (\n",
    "    data_features_full['total_count'] / \n",
    "    data_features_full['event_send_count'].replace(0, 1)\n",
    ")\n",
    "\n",
    "# коэффициент цикла покупок\n",
    "data_features_full['purchase_cycle'] = (\n",
    "    (data_features_full['date_purchase_max'] - data_features_full['date_purchase_min']).dt.days / \n",
    "    data_features_full['total_count'].replace(0, 1)\n",
    ")\n",
    "\n",
    "# дней с последней покупки\n",
    "data_features_full['days_since_last_purchase'] = (\n",
    "    datetime.today().date() - data_features_full['date_purchase_max'].dt.date\n",
    "    ).dt.days\n",
    "\n",
    "# cредний интервал между покупками\n",
    "grouped_data['avg_purchase_interval'] = grouped_data['customer_lifetime_days'] / grouped_data['total_count']\n",
    "\n",
    "# коэффициент отношения максимальной покупки к средней\n",
    "data_features_full['high_value_ratio'] = (\n",
    "    data_features_full['total_max'] / data_features_full['total_mean']\n",
    "    ).fillna(0)\n",
    "\n",
    "# эффективность каналов коммуникации\n",
    "grouped_data['email_effectiveness'] = grouped_data['event_click_count'] / grouped_data['channel_email_count'].replace(0, 1)\n",
    "grouped_data['push_effectiveness'] = grouped_data['event_click_count'] / grouped_data['channel_mobile_push_count'].replace(0, 1)\n",
    "\n",
    "# коэффициент стабильности покупок\n",
    "grouped_data['purchase_stability'] = grouped_data['date_purchase_unique'] / grouped_data['customer_lifetime_days'].replace(0, 1)"
   ]
  },
  {
   "cell_type": "markdown",
   "id": "73a3734f",
   "metadata": {},
   "source": [
    "### Анализ важности признаков"
   ]
  },
  {
   "cell_type": "markdown",
   "id": "d8e400a7",
   "metadata": {},
   "source": [
    "Для оценки важности признаков будем использовать модель RandomForestClassifier."
   ]
  },
  {
   "cell_type": "code",
   "execution_count": 111,
   "id": "a700e83d",
   "metadata": {},
   "outputs": [
    {
     "name": "stdout",
     "output_type": "stream",
     "text": [
      "Важные признаки:\n",
      "                      feature  importance\n",
      "1           date_purchase_max        0.08\n",
      "2              purchase_cycle        0.08\n",
      "3    days_since_last_purchase        0.07\n",
      "4                   RFM_Score        0.07\n",
      "5              message_unique        0.07\n",
      "6        recency_purchase_min        0.07\n",
      "7        bulk_campaign_unique        0.06\n",
      "8        date_purchase_unique        0.05\n",
      "9                  total_mean        0.04\n",
      "10                  total_min        0.04\n",
      "11         purchase_frequency        0.03\n",
      "12          date_purchase_min        0.03\n",
      "13      recency_purchase_mean        0.03\n",
      "14       recency_purchase_max        0.03\n",
      "15                 price_mean        0.03\n",
      "16           high_value_ratio        0.03\n",
      "17                  total_max        0.02\n",
      "18                  total_sum        0.02\n",
      "19                total_count        0.02\n",
      "20               quantity_sum        0.02\n",
      "21                  total_std        0.02\n",
      "22           event_send_count        0.01\n",
      "23        bulk_campaign_count        0.01\n",
      "24       event_purchase_count        0.01\n",
      "25              category_moda        0.01\n",
      "26                  price_std        0.01\n",
      "27         Category_Diversity        0.01\n",
      "28           engagement_score        0.01\n",
      "29           event_open_count        0.01\n",
      "30        channel_email_count        0.01\n",
      "31              response_rate        0.01\n",
      "32  channel_mobile_push_count        0.01\n",
      "33     conversion_after_click        0.00\n",
      "34            category_unique        0.00\n",
      "35          event_click_count        0.00\n",
      "36          event_other_count        0.00\n",
      "37              quantity_mean        0.00\n",
      "38               quantity_std        0.00\n",
      "\n",
      "Статистика по важности:\n",
      "count   38.00\n",
      "mean     0.03\n",
      "std      0.02\n",
      "min      0.00\n",
      "25%      0.01\n",
      "50%      0.02\n",
      "75%      0.04\n",
      "max      0.08\n",
      "Name: importance, dtype: float64\n"
     ]
    }
   ],
   "source": [
    "# подготовка данных\n",
    "X = data_features_full.drop(columns=['target'])\n",
    "y = data_features_full['target']\n",
    "\n",
    "# преобразование datetime в числовой формат\n",
    "datetime_cols = X.select_dtypes(include=['datetime64']).columns\n",
    "for col in datetime_cols:\n",
    "    X[col] = X[col].astype('int64')\n",
    "\n",
    "# Очистка от inf и больших значений\n",
    "X = X.replace([np.inf, -np.inf], np.nan).fillna(0)\n",
    "\n",
    "# кодируем категориальные признаки\n",
    "categorical_cols = X.select_dtypes(include=['object', 'category']).columns\n",
    "for col in categorical_cols:\n",
    "    le = LabelEncoder()\n",
    "    X[col] = le.fit_transform(X[col].astype(str))\n",
    "\n",
    "# разделение на train/test\n",
    "X_train, X_test, y_train, y_test = train_test_split(\n",
    "    X, y, test_size=0.2, random_state=42\n",
    ")\n",
    "\n",
    "# обучение модели случайного леса\n",
    "rf = RandomForestClassifier(\n",
    "    n_estimators=100,\n",
    "    max_depth=5,\n",
    "    random_state=42,\n",
    "    class_weight='balanced'\n",
    ")\n",
    "rf.fit(X_train, y_train)\n",
    "\n",
    "# получение важности признаков\n",
    "importance = pd.DataFrame({\n",
    "    'feature': X.columns,\n",
    "    'importance': rf.feature_importances_\n",
    "}).sort_values('importance', ascending=False)\n",
    "\n",
    "print(\"Важные признаки:\")\n",
    "importance = importance.reset_index(drop=True)\n",
    "importance.index = importance.index + 1\n",
    "print(importance)\n",
    "\n",
    "print(\"\\nСтатистика по важности:\")\n",
    "print(importance['importance'].describe())\n"
   ]
  },
  {
   "cell_type": "markdown",
   "id": "cea5d0aa",
   "metadata": {},
   "source": [
    "Выполним обработку признаков и исключим признаки со степенью важности ниже медианной важности."
   ]
  },
  {
   "cell_type": "code",
   "execution_count": null,
   "id": "4ee97dc9",
   "metadata": {},
   "outputs": [],
   "source": [
    "# исключим бесполезные признаки\n",
    "importance = importance[importance['importance'] > importance['importance'].quantile(0.50)]\n",
    "important_features = importance['feature'].tolist()\n",
    "data_features_adj = data_features_full[important_features + ['target']]"
   ]
  },
  {
   "cell_type": "markdown",
   "id": "836ce426",
   "metadata": {},
   "source": [
    "## Корреляционный анализ"
   ]
  },
  {
   "cell_type": "code",
   "execution_count": 113,
   "id": "4e372ab3",
   "metadata": {},
   "outputs": [
    {
     "data": {
      "image/png": "[encoded data removed]",
      "text/plain": [
       "<Figure size 1200x1200 with 2 Axes>"
      ]
     },
     "metadata": {},
     "output_type": "display_data"
    }
   ],
   "source": [
    "# рассчитаем корреляции признаков\n",
    "num_cols = data_features_adj.select_dtypes(include='number').columns.to_list()\n",
    "corr_matrix = data_features_adj.phik_matrix(interval_cols=num_cols)\n",
    "corr_joined_data = pd.DataFrame(corr_matrix, index = data_features_adj.columns, columns=data_features_adj.columns)\n",
    "ax, fig = plt.subplots(figsize=(12, 12))\n",
    "ax=sns.heatmap(corr_joined_data, annot=True, fmt='.1f', annot_kws={'size': 7})\n",
    "ax.set_title('Корреляционная матрица')\n",
    "plt.show()"
   ]
  },
  {
   "cell_type": "markdown",
   "id": "9aeaedb7",
   "metadata": {},
   "source": [
    "Анализ корреляционной матрицы позволяет заметить, что среди признаков присутствует мультиколлинеарность:\n",
    " - выявлена мультиколлинеарность ряда признаков -> необходимо исключить взаимосвязанные признаки, при этом будем оставлять те у которых сильнее корреляция с таргетом;\n",
    " - можно заметить, что не выявлена высокая корреляция  признаков и таргета."
   ]
  },
  {
   "cell_type": "code",
   "execution_count": 114,
   "id": "038e5e16",
   "metadata": {},
   "outputs": [],
   "source": [
    "# функция анализа мультиколлинеарных признаков\n",
    "def find_correlated_features_with_target(corr_matrix, target_name, threshold=0.9):\n",
    "    \n",
    "    # Создаем копию матрицы корреляций\n",
    "    corr = corr_matrix.copy()\n",
    "    \n",
    "    # Игнорируем диагональ\n",
    "    np.fill_diagonal(corr.values, 0)\n",
    "    \n",
    "    # Список для хранения признаков к исключению\n",
    "    to_drop = set()\n",
    "    \n",
    "    # Проходим по всем столбцам матрицы корреляций (кроме целевой)\n",
    "    features = [col for col in corr.columns if col != target_name]\n",
    "    \n",
    "    for col in features:\n",
    "        # Находим признаки с корреляцией выше порога (исключая целевую)\n",
    "        correlated = [f for f in corr.index[abs(corr[col]) > threshold] \n",
    "                    if f != target_name]\n",
    "        \n",
    "        # Для каждого коррелированного признака\n",
    "        for corr_feature in correlated:\n",
    "            # Выбираем какой признак оставить (с большей корреляцией с таргетом)\n",
    "            corr_with_target_col = abs(corr.loc[col, target_name])\n",
    "            corr_with_target_feature = abs(corr.loc[corr_feature, target_name])\n",
    "            \n",
    "            if corr_with_target_col > corr_with_target_feature:\n",
    "                to_drop.add(corr_feature)\n",
    "            else:\n",
    "                to_drop.add(col)\n",
    "    \n",
    "    return list(to_drop)"
   ]
  },
  {
   "cell_type": "code",
   "execution_count": 115,
   "id": "745d8a78",
   "metadata": {},
   "outputs": [
    {
     "name": "stdout",
     "output_type": "stream",
     "text": [
      "Список признаков для исключения:\n"
     ]
    },
    {
     "data": {
      "text/plain": [
       "['date_purchase_min',\n",
       " 'recency_purchase_max',\n",
       " 'recency_purchase_min',\n",
       " 'price_mean',\n",
       " 'total_min',\n",
       " 'total_count',\n",
       " 'total_mean',\n",
       " 'days_since_last_purchase',\n",
       " 'message_unique',\n",
       " 'recency_purchase_mean',\n",
       " 'RFM_Score',\n",
       " 'date_purchase_unique']"
      ]
     },
     "execution_count": 115,
     "metadata": {},
     "output_type": "execute_result"
    }
   ],
   "source": [
    "features_to_drop = find_correlated_features_with_target(corr_joined_data, 'target')\n",
    "print('Список признаков для исключения:')\n",
    "features_to_drop"
   ]
  },
  {
   "cell_type": "code",
   "execution_count": 116,
   "id": "92aa843d",
   "metadata": {},
   "outputs": [],
   "source": [
    "# исключим лишние признаки\n",
    "data_features_adj = data_features_adj.drop(features_to_drop, axis=1)"
   ]
  },
  {
   "cell_type": "code",
   "execution_count": 117,
   "id": "b6dd20fd",
   "metadata": {},
   "outputs": [
    {
     "data": {
      "image/png": "[encoded data removed]",
      "text/plain": [
       "<Figure size 1200x1200 with 2 Axes>"
      ]
     },
     "metadata": {},
     "output_type": "display_data"
    }
   ],
   "source": [
    "# повторно рассчитаем корреляции признаков\n",
    "num_cols = data_features_adj.select_dtypes(include='number').columns.to_list()\n",
    "corr_matrix = data_features_adj.phik_matrix(interval_cols=num_cols)\n",
    "corr_joined_data = pd.DataFrame(corr_matrix, index = data_features_adj.columns, columns=data_features_adj.columns)\n",
    "ax, fig = plt.subplots(figsize=(12, 12))\n",
    "ax=sns.heatmap(corr_joined_data, annot=True, fmt='.1f', annot_kws={'size': 7})\n",
    "ax.set_title('Корреляционная матрица')\n",
    "plt.show()"
   ]
  },
  {
   "cell_type": "markdown",
   "id": "a9e5fc72",
   "metadata": {},
   "source": [
    "## Обучение моделей"
   ]
  },
  {
   "cell_type": "markdown",
   "id": "1c24d7cd",
   "metadata": {},
   "source": [
    "В рамках проекта таргет это бинарный признак, отсюда его прогноз это задача классификации. Ранее было обнаружено что положительный класс таргета имеет существенный дисбаланс и составляет около 2%. Кроме того анализ корреляции не выявил наличия сильной линейной связи таргета и признаков.\n",
    "\n",
    "Для боробы с дисбалансом таргета будет использована модель синтетической генерации примером минорного класса SMOTE с сэмплированием 0.3, а также модель Tomek Links для удаления шумовых наблюдений на границе классов. \n",
    "\n",
    "Низкая корреляция таргета и признаков указывает на нелинейную зависимость, отсюда линейные модели и KNN будут плохо работать. Итоговый перечень моделей следующий:\n",
    " - LightGBM (LGBMClassifier);\n",
    " - Random Forest (RandomForestClassifier);\n",
    " - Логистическая регрессия (LogisticRegression);\n",
    " - SVM (SVC).\n",
    "\n",
    "В качестве целевой метрики будет использован ROC-AUC. Для поиска будет использован случайный поиск с кросс-валидацией."
   ]
  },
  {
   "cell_type": "code",
   "execution_count": 118,
   "id": "4e90cc8f",
   "metadata": {},
   "outputs": [],
   "source": [
    "# скорректируем тип данных datetime в разницу\n",
    "datetime_cols = data_features_adj.select_dtypes(include=['datetime64']).columns\n",
    "for col in datetime_cols:\n",
    "    data_features_adj[col] = (data_features_adj[col] - pd.Timestamp('2000-01-01')).dt.total_seconds()\n",
    "\n",
    "data_features_adj = data_features_adj.replace([np.inf, -np.inf], np.nan)   "
   ]
  },
  {
   "cell_type": "markdown",
   "id": "a2df35d1",
   "metadata": {},
   "source": [
    "#### Подготовка данных"
   ]
  },
  {
   "cell_type": "code",
   "execution_count": 119,
   "id": "838b6085",
   "metadata": {},
   "outputs": [],
   "source": [
    "TEST_SIZE = 0.25\n",
    "\n",
    "# данные для моделирования\n",
    "X_train, X_test, y_train, y_test = train_test_split(\n",
    "    data_features_adj.drop('target', axis=1),\n",
    "    data_features_adj['target'],\n",
    "    random_state=RANDOM_STATE,\n",
    "    test_size=TEST_SIZE,\n",
    "    stratify=data_features_adj['target']\n",
    ")\n",
    "\n",
    "# списки с названиями признаков\n",
    "num_cols = X_train.select_dtypes(include='number').columns.tolist()\n",
    "ohe_cols = X_train.select_dtypes(include='object').columns.tolist()"
   ]
  },
  {
   "cell_type": "markdown",
   "id": "3ccb39f8",
   "metadata": {},
   "source": [
    "#### Построение пайплайна"
   ]
  },
  {
   "cell_type": "code",
   "execution_count": 120,
   "id": "3c071e2c",
   "metadata": {},
   "outputs": [],
   "source": [
    "from imblearn.under_sampling import TomekLinks, RandomUnderSampler"
   ]
  },
  {
   "cell_type": "code",
   "execution_count": 121,
   "id": "07648a31",
   "metadata": {},
   "outputs": [],
   "source": [
    "# создаем пайплайн для подготовки признаков из списка ohe_columns\n",
    "ohe_pipe = Pipeline(\n",
    "    [\n",
    "        ('simpleImputer_ohe', SimpleImputer(missing_values=np.nan, strategy='most_frequent')),\n",
    "        ('target_encoder', TargetEncoder(cv=5, smooth='auto', random_state=RANDOM_STATE))\n",
    "        #('ohe', OneHotEncoder(drop='first', handle_unknown='ignore', sparse_output=False))\n",
    "    ]\n",
    ")\n",
    "\n",
    "num_pipe = Pipeline(\n",
    "    [\n",
    "        ('imputer', SimpleImputer(missing_values=np.nan, strategy='most_frequent')),\n",
    "        ('num', StandardScaler())\n",
    "    ]\n",
    ")\n",
    "\n",
    "# создаем общий пайплайн для подготовки данных\n",
    "data_preprocessor = ColumnTransformer(\n",
    "    [\n",
    "        ('ohe', ohe_pipe, ohe_cols),\n",
    "        ('num', num_pipe, num_cols)\n",
    "    ],\n",
    "    remainder='passthrough'\n",
    ")\n",
    "\n",
    "# создаем итоговый пайплайн \n",
    "pipe_final = ImbPipeline(\n",
    "    [\n",
    "        ('preprocessor', data_preprocessor),\n",
    "        ('resampler', SMOTETomek(\n",
    "            smote=SMOTE(\n",
    "                sampling_strategy=0.3,\n",
    "                k_neighbors=3,\n",
    "                random_state=RANDOM_STATE\n",
    "            ),\n",
    "            tomek=TomekLinks(),\n",
    "            random_state=RANDOM_STATE\n",
    "        )),\n",
    "        ('model', LGBMClassifier(\n",
    "            random_state=RANDOM_STATE,\n",
    "            class_weight='balanced',\n",
    "            scale_pos_weight=4\n",
    "        ))\n",
    "    ]\n",
    ")"
   ]
  },
  {
   "cell_type": "code",
   "execution_count": 122,
   "id": "63b225ec",
   "metadata": {},
   "outputs": [],
   "source": [
    "param_grid = [\n",
    "    # словарь для LGBM\n",
    "    {\n",
    "        'model': [LGBMClassifier(random_state=RANDOM_STATE)],\n",
    "        'model__boosting_type': ['gbdt'],  # Убрал 'dart', т.к. 'gbdt' стабильнее\n",
    "        'model__num_leaves': [5, 10, 15, 20],  # Уменьшил для борьбы с переобучением\n",
    "        'model__learning_rate': [0.01, 0.05, 0.1],\n",
    "        'model__n_estimators': [100, 200, 500],  # Уменьшил максимальное значение\n",
    "        'model__min_data_in_leaf': [20, 50, 100],  # Увеличил для устойчивости\n",
    "        'model__reg_alpha': [0, 0.1, 1],\n",
    "        'model__reg_lambda': [0, 0.1, 1],\n",
    "        'model__class_weight': [None],  # 'balanced' менее эффективен, чем scale_pos_weight\n",
    "        'model__objective': ['binary'],  # Убрал 'cross_entropy', чтобы упростить\n",
    "        'model__feature_fraction': [0.5, 0.6, 0.7],  # Уменьшил для регуляризации\n",
    "        'model__bagging_fraction': [0.5, 0.6, 0.7],  # Уменьшил для бэггинга\n",
    "        'model__bagging_freq': [0, 5, 10],\n",
    "        'model__scale_pos_weight': [10, 20, 49, 50],  # Оптимальные значения для дисбаланса 2%\n",
    "        'model__min_child_weight': [1e-2, 0.1, 1],  # Увеличил минимальный вес\n",
    "    },\n",
    "    # словарь для RandomForest\n",
    "    {\n",
    "        'model': [RandomForestClassifier(random_state=RANDOM_STATE)],\n",
    "        'model__class_weight': ['balanced', 'balanced_subsample'],  # Добавил 'balanced_subsample'\n",
    "        'model__n_estimators': [50, 100, 200],  # Уменьшил для скорости\n",
    "        'model__max_depth': [5, 10, 15],  # Ограничил глубину\n",
    "        'model__min_samples_leaf': [20, 50, 100],  # Увеличил для устойчивости\n",
    "        'model__max_features': ['sqrt'],  # Оставил для разнообразия\n",
    "    },\n",
    "    # словарь для LogisticRegression\n",
    "    {\n",
    "        'model': [LogisticRegression(random_state=RANDOM_STATE)],\n",
    "        'model__class_weight': ['balanced'],\n",
    "        'model__penalty': ['l1', 'l2'],\n",
    "        'model__C': [0.001, 0.01, 0.1, 1],  # Добавил более сильную регуляризацию\n",
    "        'model__solver': ['liblinear'],  # Убрал 'saga', т.к. 'liblinear' стабильнее для l1\n",
    "        'model__max_iter': [1000],\n",
    "    },\n",
    "    # словарье для SVC\n",
    "    {\n",
    "        'model': [SVC(random_state=RANDOM_STATE, probability=True)],\n",
    "        'model__class_weight': ['balanced'],\n",
    "        'model__C': [0.01, 0.1, 1],  # Уменьшил C для регуляризации\n",
    "        'model__kernel': ['linear'],  # Убрал 'rbf', т.к. линейное ядро устойчивее\n",
    "        'model__gamma': ['scale'],\n",
    "    }\n",
    "]"
   ]
  },
  {
   "cell_type": "markdown",
   "id": "24c9935b",
   "metadata": {},
   "source": [
    "#### Поиск лучшей модели"
   ]
  },
  {
   "cell_type": "code",
   "execution_count": 123,
   "id": "5ae41be2",
   "metadata": {},
   "outputs": [
    {
     "name": "stderr",
     "output_type": "stream",
     "text": [
      "c:\\Users\\den_m\\.conda\\envs\\practicum\\lib\\site-packages\\sklearn\\base.py:474: FutureWarning: `BaseEstimator._validate_data` is deprecated in 1.6 and will be removed in 1.7. Use `sklearn.utils.validation.validate_data` instead. This function becomes public and is part of the scikit-learn developer API.\n",
      "  warnings.warn(\n",
      "c:\\Users\\den_m\\.conda\\envs\\practicum\\lib\\site-packages\\sklearn\\base.py:474: FutureWarning: `BaseEstimator._validate_data` is deprecated in 1.6 and will be removed in 1.7. Use `sklearn.utils.validation.validate_data` instead. This function becomes public and is part of the scikit-learn developer API.\n",
      "  warnings.warn(\n",
      "c:\\Users\\den_m\\.conda\\envs\\practicum\\lib\\site-packages\\sklearn\\base.py:474: FutureWarning: `BaseEstimator._validate_data` is deprecated in 1.6 and will be removed in 1.7. Use `sklearn.utils.validation.validate_data` instead. This function becomes public and is part of the scikit-learn developer API.\n",
      "  warnings.warn(\n"
     ]
    },
    {
     "name": "stdout",
     "output_type": "stream",
     "text": [
      "[LightGBM] [Warning] min_data_in_leaf is set=100, min_child_samples=20 will be ignored. Current value: min_data_in_leaf=100\n",
      "[LightGBM] [Warning] feature_fraction is set=0.5, colsample_bytree=1.0 will be ignored. Current value: feature_fraction=0.5\n",
      "[LightGBM] [Warning] bagging_fraction is set=0.7, subsample=1.0 will be ignored. Current value: bagging_fraction=0.7\n",
      "[LightGBM] [Warning] bagging_freq is set=5, subsample_freq=0 will be ignored. Current value: bagging_freq=5\n",
      "[LightGBM] [Warning] min_data_in_leaf is set=100, min_child_samples=20 will be ignored. Current value: min_data_in_leaf=100\n",
      "[LightGBM] [Warning] feature_fraction is set=0.5, colsample_bytree=1.0 will be ignored. Current value: feature_fraction=0.5\n",
      "[LightGBM] [Warning] bagging_fraction is set=0.7, subsample=1.0 will be ignored. Current value: bagging_fraction=0.7\n",
      "[LightGBM] [Warning] bagging_freq is set=5, subsample_freq=0 will be ignored. Current value: bagging_freq=5\n",
      "[LightGBM] [Info] Number of positive: 10484, number of negative: 34683\n",
      "[LightGBM] [Info] Auto-choosing row-wise multi-threading, the overhead of testing was 0.001272 seconds.\n",
      "You can set `force_row_wise=true` to remove the overhead.\n",
      "And if memory is not enough, you can set `force_col_wise=true`.\n",
      "[LightGBM] [Info] Total Bins 1743\n",
      "[LightGBM] [Info] Number of data points in the train set: 45167, number of used features: 7\n",
      "[LightGBM] [Info] [binary:BoostFromScore]: pavg=0.232116 -> initscore=-1.196399\n",
      "[LightGBM] [Info] Start training from score -1.196399\n"
     ]
    }
   ],
   "source": [
    "# поиск лучшей модели\n",
    "randomized_search = RandomizedSearchCV(\n",
    "    pipe_final,\n",
    "    param_grid,\n",
    "    cv=5,\n",
    "    n_iter=200,\n",
    "    scoring=['roc_auc', 'f1', 'accuracy'],\n",
    "    refit='roc_auc',\n",
    "    random_state=RANDOM_STATE,\n",
    "    n_jobs=20,\n",
    "    verbose=0\n",
    ").fit(X_train, y_train)\n",
    "\n",
    "result = pd.DataFrame(randomized_search.cv_results_)\n"
   ]
  },
  {
   "cell_type": "code",
   "execution_count": 127,
   "id": "d9a39b68",
   "metadata": {},
   "outputs": [
    {
     "name": "stdout",
     "output_type": "stream",
     "text": [
      "Рейтинг вариантов моделей по показателю ROC AUC:\n"
     ]
    },
    {
     "data": {
      "text/html": [
       "<div>\n",
       "<style scoped>\n",
       "    .dataframe tbody tr th:only-of-type {\n",
       "        vertical-align: middle;\n",
       "    }\n",
       "\n",
       "    .dataframe tbody tr th {\n",
       "        vertical-align: top;\n",
       "    }\n",
       "\n",
       "    .dataframe thead th {\n",
       "        text-align: right;\n",
       "    }\n",
       "</style>\n",
       "<table border=\"1\" class=\"dataframe\">\n",
       "  <thead>\n",
       "    <tr style=\"text-align: right;\">\n",
       "      <th></th>\n",
       "      <th>param_model</th>\n",
       "      <th>mean_fit_time</th>\n",
       "      <th>mean_score_time</th>\n",
       "      <th>mean_test_roc_auc</th>\n",
       "      <th>mean_test_f1</th>\n",
       "      <th>mean_test_accuracy</th>\n",
       "      <th>rank_test_roc_auc</th>\n",
       "    </tr>\n",
       "  </thead>\n",
       "  <tbody>\n",
       "    <tr>\n",
       "      <th>1</th>\n",
       "      <td>LGBMClassifier(random_state=12345)</td>\n",
       "      <td>5.44</td>\n",
       "      <td>0.06</td>\n",
       "      <td>0.69</td>\n",
       "      <td>0.04</td>\n",
       "      <td>0.22</td>\n",
       "      <td>1</td>\n",
       "    </tr>\n",
       "    <tr>\n",
       "      <th>2</th>\n",
       "      <td>LGBMClassifier(random_state=12345)</td>\n",
       "      <td>4.00</td>\n",
       "      <td>0.05</td>\n",
       "      <td>0.69</td>\n",
       "      <td>0.04</td>\n",
       "      <td>0.22</td>\n",
       "      <td>2</td>\n",
       "    </tr>\n",
       "    <tr>\n",
       "      <th>3</th>\n",
       "      <td>LGBMClassifier(random_state=12345)</td>\n",
       "      <td>4.94</td>\n",
       "      <td>0.05</td>\n",
       "      <td>0.69</td>\n",
       "      <td>0.05</td>\n",
       "      <td>0.43</td>\n",
       "      <td>3</td>\n",
       "    </tr>\n",
       "    <tr>\n",
       "      <th>4</th>\n",
       "      <td>LGBMClassifier(random_state=12345)</td>\n",
       "      <td>3.59</td>\n",
       "      <td>0.05</td>\n",
       "      <td>0.69</td>\n",
       "      <td>0.04</td>\n",
       "      <td>0.22</td>\n",
       "      <td>4</td>\n",
       "    </tr>\n",
       "    <tr>\n",
       "      <th>5</th>\n",
       "      <td>LGBMClassifier(random_state=12345)</td>\n",
       "      <td>12.49</td>\n",
       "      <td>0.07</td>\n",
       "      <td>0.69</td>\n",
       "      <td>0.04</td>\n",
       "      <td>0.09</td>\n",
       "      <td>5</td>\n",
       "    </tr>\n",
       "    <tr>\n",
       "      <th>6</th>\n",
       "      <td>LGBMClassifier(random_state=12345)</td>\n",
       "      <td>11.86</td>\n",
       "      <td>0.08</td>\n",
       "      <td>0.69</td>\n",
       "      <td>0.04</td>\n",
       "      <td>0.20</td>\n",
       "      <td>6</td>\n",
       "    </tr>\n",
       "    <tr>\n",
       "      <th>7</th>\n",
       "      <td>LGBMClassifier(random_state=12345)</td>\n",
       "      <td>11.14</td>\n",
       "      <td>0.07</td>\n",
       "      <td>0.69</td>\n",
       "      <td>0.06</td>\n",
       "      <td>0.52</td>\n",
       "      <td>7</td>\n",
       "    </tr>\n",
       "    <tr>\n",
       "      <th>8</th>\n",
       "      <td>LGBMClassifier(random_state=12345)</td>\n",
       "      <td>4.06</td>\n",
       "      <td>0.05</td>\n",
       "      <td>0.69</td>\n",
       "      <td>0.04</td>\n",
       "      <td>0.23</td>\n",
       "      <td>8</td>\n",
       "    </tr>\n",
       "    <tr>\n",
       "      <th>9</th>\n",
       "      <td>LGBMClassifier(random_state=12345)</td>\n",
       "      <td>19.99</td>\n",
       "      <td>0.17</td>\n",
       "      <td>0.69</td>\n",
       "      <td>0.04</td>\n",
       "      <td>0.19</td>\n",
       "      <td>9</td>\n",
       "    </tr>\n",
       "    <tr>\n",
       "      <th>10</th>\n",
       "      <td>LGBMClassifier(random_state=12345)</td>\n",
       "      <td>7.34</td>\n",
       "      <td>0.06</td>\n",
       "      <td>0.69</td>\n",
       "      <td>0.04</td>\n",
       "      <td>0.16</td>\n",
       "      <td>10</td>\n",
       "    </tr>\n",
       "  </tbody>\n",
       "</table>\n",
       "</div>"
      ],
      "text/plain": [
       "                           param_model  mean_fit_time  mean_score_time  \\\n",
       "1   LGBMClassifier(random_state=12345)           5.44             0.06   \n",
       "2   LGBMClassifier(random_state=12345)           4.00             0.05   \n",
       "3   LGBMClassifier(random_state=12345)           4.94             0.05   \n",
       "4   LGBMClassifier(random_state=12345)           3.59             0.05   \n",
       "5   LGBMClassifier(random_state=12345)          12.49             0.07   \n",
       "6   LGBMClassifier(random_state=12345)          11.86             0.08   \n",
       "7   LGBMClassifier(random_state=12345)          11.14             0.07   \n",
       "8   LGBMClassifier(random_state=12345)           4.06             0.05   \n",
       "9   LGBMClassifier(random_state=12345)          19.99             0.17   \n",
       "10  LGBMClassifier(random_state=12345)           7.34             0.06   \n",
       "\n",
       "    mean_test_roc_auc  mean_test_f1  mean_test_accuracy  rank_test_roc_auc  \n",
       "1                0.69          0.04                0.22                  1  \n",
       "2                0.69          0.04                0.22                  2  \n",
       "3                0.69          0.05                0.43                  3  \n",
       "4                0.69          0.04                0.22                  4  \n",
       "5                0.69          0.04                0.09                  5  \n",
       "6                0.69          0.04                0.20                  6  \n",
       "7                0.69          0.06                0.52                  7  \n",
       "8                0.69          0.04                0.23                  8  \n",
       "9                0.69          0.04                0.19                  9  \n",
       "10               0.69          0.04                0.16                 10  "
      ]
     },
     "metadata": {},
     "output_type": "display_data"
    }
   ],
   "source": [
    "# вывод рейтинга моделей\n",
    "result_sort = result[\n",
    "    ['param_model', 'mean_fit_time', 'mean_score_time', 'mean_test_roc_auc', \n",
    "     'mean_test_f1', 'mean_test_accuracy',  'rank_test_roc_auc']\n",
    "].sort_values('rank_test_roc_auc').reset_index(drop=True)\n",
    "\n",
    "result_sort.index = result_sort.index + 1\n",
    "print('Рейтинг вариантов моделей по показателю ROC AUC:')\n",
    "display(result_sort.head(10))"
   ]
  },
  {
   "cell_type": "code",
   "execution_count": 128,
   "id": "8f776d27",
   "metadata": {},
   "outputs": [
    {
     "name": "stdout",
     "output_type": "stream",
     "text": [
      "Гиперпараметры лучшей модели:\n",
      "\n",
      "Pipeline(steps=[('preprocessor',\n",
      "                 ColumnTransformer(remainder='passthrough',\n",
      "                                   transformers=[('ohe',\n",
      "                                                  Pipeline(steps=[('simpleImputer_ohe',\n",
      "                                                                   SimpleImputer(strategy='most_frequent')),\n",
      "                                                                  ('target_encoder',\n",
      "                                                                   TargetEncoder(random_state=12345))]),\n",
      "                                                  []),\n",
      "                                                 ('num',\n",
      "                                                  Pipeline(steps=[('imputer',\n",
      "                                                                   SimpleImputer(strategy='most_frequent')),\n",
      "                                                                  ('num',\n",
      "                                                                   StandardScaler())]),\n",
      "                                                  ['date_purchase_...\n",
      "                 SMOTETomek(random_state=12345,\n",
      "                            smote=SMOTE(k_neighbors=3, random_state=12345,\n",
      "                                        sampling_strategy=0.3),\n",
      "                            tomek=TomekLinks())),\n",
      "                ('model',\n",
      "                 LGBMClassifier(bagging_fraction=0.7, bagging_freq=5,\n",
      "                                feature_fraction=0.5, learning_rate=0.01,\n",
      "                                min_child_weight=1, min_data_in_leaf=100,\n",
      "                                n_estimators=500, num_leaves=5,\n",
      "                                objective='binary', random_state=12345,\n",
      "                                reg_alpha=0, reg_lambda=1,\n",
      "                                scale_pos_weight=10))])\n",
      "[LightGBM] [Warning] min_data_in_leaf is set=100, min_child_samples=20 will be ignored. Current value: min_data_in_leaf=100\n",
      "[LightGBM] [Warning] feature_fraction is set=0.5, colsample_bytree=1.0 will be ignored. Current value: feature_fraction=0.5\n",
      "[LightGBM] [Warning] bagging_fraction is set=0.7, subsample=1.0 will be ignored. Current value: bagging_fraction=0.7\n",
      "[LightGBM] [Warning] bagging_freq is set=5, subsample_freq=0 will be ignored. Current value: bagging_freq=5\n"
     ]
    },
    {
     "name": "stderr",
     "output_type": "stream",
     "text": [
      "c:\\Users\\den_m\\.conda\\envs\\practicum\\lib\\site-packages\\sklearn\\utils\\validation.py:2739: UserWarning: X does not have valid feature names, but LGBMClassifier was fitted with feature names\n",
      "  warnings.warn(\n"
     ]
    }
   ],
   "source": [
    "# лучшая модель и препроцессор\n",
    "best_estimator = randomized_search.best_estimator_\n",
    "print('Гиперпараметры лучшей модели:\\n')\n",
    "print(best_estimator)\n",
    "best_model_class = best_estimator['model']\n",
    "final_preprocessor = best_estimator['preprocessor']\n",
    "X_test_transformed = final_preprocessor.transform(X_test)\n",
    "y_pred = best_model_class.predict(X_test_transformed)"
   ]
  },
  {
   "cell_type": "markdown",
   "id": "6252fc1b",
   "metadata": {},
   "source": [
    "Лучшей моделью оказался классификатор LightGBM (LGBMClassifier). Для борьбы с дисбалансом классов в пайплайне использована комбинация SMOTETomek, включающая синтетическую генерацию примеров миноритарного класса (SMOTE) и очистку данных от шумовых объектов (Tomek Links). Оптимизация гиперпараметров проводилась по метрике ROC-AUC.\n",
    "\n",
    "Категориальные признаки обрабатывались в два этапа: сначала заполнялись пропуски наиболее частыми значениями (SimpleImputer), затем применялось таргет-энкодирование (TargetEncoder) с кросс-валидацией. Для числовых признаков также выполнялось заполнение пропусков, после чего данные масштабировались (StandardScaler). \n"
   ]
  },
  {
   "cell_type": "markdown",
   "id": "a02bd43b",
   "metadata": {},
   "source": [
    "#### Определение оптимального порога классификации"
   ]
  },
  {
   "cell_type": "code",
   "execution_count": 129,
   "id": "a3aef48f",
   "metadata": {},
   "outputs": [
    {
     "name": "stderr",
     "output_type": "stream",
     "text": [
      "c:\\Users\\den_m\\.conda\\envs\\practicum\\lib\\site-packages\\sklearn\\utils\\validation.py:2739: UserWarning: X does not have valid feature names, but LGBMClassifier was fitted with feature names\n",
      "  warnings.warn(\n"
     ]
    },
    {
     "name": "stdout",
     "output_type": "stream",
     "text": [
      "[LightGBM] [Warning] min_data_in_leaf is set=100, min_child_samples=20 will be ignored. Current value: min_data_in_leaf=100\n",
      "[LightGBM] [Warning] feature_fraction is set=0.5, colsample_bytree=1.0 will be ignored. Current value: feature_fraction=0.5\n",
      "[LightGBM] [Warning] bagging_fraction is set=0.7, subsample=1.0 will be ignored. Current value: bagging_fraction=0.7\n",
      "[LightGBM] [Warning] bagging_freq is set=5, subsample_freq=0 will be ignored. Current value: bagging_freq=5\n"
     ]
    },
    {
     "data": {
      "image/png": "[encoded data removed]",
      "text/plain": [
       "<Figure size 1000x800 with 1 Axes>"
      ]
     },
     "metadata": {},
     "output_type": "display_data"
    },
    {
     "name": "stdout",
     "output_type": "stream",
     "text": [
      "\n",
      "Анализ ROC-AUC (значение = 0.72):\n",
      " - Приемлемая разделяющая способность\n"
     ]
    },
    {
     "data": {
      "image/png": "[encoded data removed]",
      "text/plain": [
       "<Figure size 500x300 with 2 Axes>"
      ]
     },
     "metadata": {},
     "output_type": "display_data"
    },
    {
     "name": "stdout",
     "output_type": "stream",
     "text": [
      "\n",
      "Оптимальный порог классификации: 0.74\n",
      "Метрики при оптимальном пороге:\n",
      " - Accuracy: 0.76\n",
      " - Precision: 0.05\n",
      " - Recall (TPR): 0.61\n",
      " - False Positive Rate: 0.23\n",
      "\n",
      "Сравнение с порогом 0.5:\n",
      " - Accuracy: 0.21\n",
      " - Precision: 0.02\n",
      " - Recall: 0.90\n"
     ]
    }
   ],
   "source": [
    "# получаем предсказанные вероятности и ROC-кривую\n",
    "y_proba = best_model_class.predict_proba(X_test_transformed)[:, 1]\n",
    "fpr, tpr, thresholds = roc_curve(y_test, y_proba)\n",
    "roc_auc = auc(fpr, tpr)\n",
    "\n",
    "# находим оптимальный порог (максимизация TPR - FPR)\n",
    "optimal_idx = np.argmax(tpr - fpr)\n",
    "optimal_threshold = thresholds[optimal_idx]\n",
    "optimal_y_pred = (y_proba >= optimal_threshold).astype(int)  # Добавлено определение optimal_y_pred\n",
    "\n",
    "# строим ROC-кривую\n",
    "plt.figure(figsize=(10, 8))\n",
    "plt.plot(fpr, tpr, color='darkorange', lw=2, \n",
    "         label=f'ROC кривая (AUC = {roc_auc:.2f})')\n",
    "plt.plot([0, 1], [0, 1], color='navy', lw=2, linestyle='--', label='Случайная модель')\n",
    "plt.scatter(fpr[optimal_idx], tpr[optimal_idx], marker='o', color='red', \n",
    "            label=f'Оптимальный порог (={optimal_threshold:.2f})')\n",
    "plt.xlim([0.0, 1.0])\n",
    "plt.ylim([0.0, 1.05])\n",
    "plt.xlabel('False Positive Rate')\n",
    "plt.ylabel('True Positive Rate')\n",
    "plt.title('ROC-кривая')\n",
    "plt.legend(loc=\"lower right\")\n",
    "plt.grid()\n",
    "plt.show()\n",
    "\n",
    "# анализ ROC-AUC\n",
    "print(f\"\\nАнализ ROC-AUC (значение = {roc_auc:.2f}):\")\n",
    "if roc_auc == 0.5:\n",
    "    print(\" - Модель не лучше случайного угадывания\")\n",
    "elif 0.5 < roc_auc < 0.7:\n",
    "    print(\" - Слабая разделяющая способность\")\n",
    "elif 0.7 <= roc_auc < 0.8:\n",
    "    print(\" - Приемлемая разделяющая способность\")\n",
    "elif 0.8 <= roc_auc < 0.9:\n",
    "    print(\" - Хорошая разделяющая способность\")\n",
    "else:\n",
    "    print(\" - Отличная разделяющая способность\")\n",
    "\n",
    "# матрица ошибок для оптимального порога\n",
    "plt.figure(figsize=(5, 3))\n",
    "ax = plt.subplot()\n",
    "lbls = ['нет', 'да']\n",
    "cm = confusion_matrix(y_test, optimal_y_pred)\n",
    "sns.heatmap(cm, annot=True, fmt='d', cmap='Blues_r')\n",
    "ax.set_xlabel('Предсказанный класс')\n",
    "ax.set_ylabel('Истинный класс')\n",
    "ax.set_title('Матрица ошибок (оптимальный порог)')\n",
    "ax.xaxis.set_ticklabels(lbls)\n",
    "ax.yaxis.set_ticklabels(lbls)\n",
    "plt.show()\n",
    "\n",
    "# метрики для оптимального порога\n",
    "print(f\"\\nОптимальный порог классификации: {optimal_threshold:.2f}\")\n",
    "print(\"Метрики при оптимальном пороге:\")\n",
    "print(f\" - Accuracy: {accuracy_score(y_test, optimal_y_pred):.2f}\")\n",
    "print(f\" - Precision: {precision_score(y_test, optimal_y_pred, zero_division=0):.2f}\")\n",
    "print(f\" - Recall (TPR): {recall_score(y_test, optimal_y_pred, zero_division=0):.2f}\")\n",
    "print(f\" - False Positive Rate: {fpr[optimal_idx]:.2f}\")\n",
    "\n",
    "# сравнение с порогом 0.5\n",
    "y_pred_default = (y_proba >= 0.5).astype(int)\n",
    "print(\"\\nСравнение с порогом 0.5:\")\n",
    "print(f\" - Accuracy: {accuracy_score(y_test, y_pred_default):.2f}\")\n",
    "print(f\" - Precision: {precision_score(y_test, y_pred_default, zero_division=0):.2f}\")\n",
    "print(f\" - Recall: {recall_score(y_test, y_pred_default, zero_division=0):.2f}\")"
   ]
  },
  {
   "cell_type": "markdown",
   "id": "f999b997",
   "metadata": {},
   "source": [
    "## Выводы"
   ]
  },
  {
   "cell_type": "markdown",
   "id": "8baf524f",
   "metadata": {},
   "source": [
    "Проект по прогнозированию бинарного целевого признака с существенным дисбалансом классов (2% положительных случаев) был успешно реализован. На начальном этапе проведен тщательный анализ трех предоставленных датасетов (с информацией о покупках клиентов, рассылках и дополнительными признаками). После предварительного анализа и предобработки данных были сформированы дополнительные признаки для улучшения качества моделирования.\n",
    "\n",
    "Основные особенности проекта:\n",
    "1. Для заполнения пропусков была использована модель DecisionTreeClassifier / Regressor.\n",
    "2. Для оценки важности признаков была испольвана модель RandomForestClassifier.\n",
    "3. Для решения проблемы сильного дисбаланса классов (2% положительных случаев) применена комбинированная стратегия SMOTETomek, сочетающая синтетическую генерацию примеров миноритарного класса (SMOTE) и очистку данных от шумовых наблюдений (Tomek Links).\n",
    "4. Учитывая отсутствие сильной линейной зависимости между признаками и целевой переменной, выбор был сделан в пользу ансамблевых методов, показавших лучшие результаты на нелинейных зависимостях.\n",
    "5. В процессе моделирования тестировались четыре алгоритма: LightGBM, Random Forest, Logistic Regression и SVM, с оптимизацией по метрике ROC-AUC.\n",
    "\n",
    "Лучший результат показала модель LightGBM со следующими характеристиками:\n",
    "- ROC-AUC = 72%;\n",
    "- Оптимальный порог классификации: 0.74;\n",
    "- Accuracy: 0.74;\n",
    "- Precision: 0.05;\n",
    "- Recall: 0.61.\n",
    "\n",
    "Полученная модель демонстрирует приемлемую предсказательную способность."
   ]
  }
 ],
 "metadata": {
  "kernelspec": {
   "display_name": "Python 3",
   "language": "python",
   "name": "python3"
  },
  "language_info": {
   "codemirror_mode": {
    "name": "ipython",
    "version": 3
   },
   "file_extension": ".py",
   "mimetype": "text/x-python",
   "name": "python",
   "nbconvert_exporter": "python",
   "pygments_lexer": "ipython3",
   "version": "3.9.23"
  }
 },
 "nbformat": 4,
 "nbformat_minor": 5
}
